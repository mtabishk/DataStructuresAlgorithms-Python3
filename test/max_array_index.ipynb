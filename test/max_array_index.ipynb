{
 "cells": [
  {
   "cell_type": "code",
   "execution_count": 1,
   "id": "828c70bb",
   "metadata": {},
   "outputs": [],
   "source": [
    "def maxArrayIndex(n, arr):\n",
    "    j = n-1\n",
    "    k = -1\n",
    "    for i in range(0,n-1):\n",
    "        if (arr[i] < arr[j]):\n",
    "            k = i\n",
    "            return j-k\n",
    "    return -1"
   ]
  },
  {
   "cell_type": "code",
   "execution_count": 5,
   "id": "fb4ea34d",
   "metadata": {},
   "outputs": [
    {
     "name": "stdout",
     "output_type": "stream",
     "text": [
      "-1\n"
     ]
    }
   ],
   "source": [
    "print(maxArrayIndex(6, [31,41,42,30,221,21]))"
   ]
  },
  {
   "cell_type": "code",
   "execution_count": null,
   "id": "b657786b",
   "metadata": {},
   "outputs": [],
   "source": []
  }
 ],
 "metadata": {
  "kernelspec": {
   "display_name": "Python 3",
   "language": "python",
   "name": "python3"
  },
  "language_info": {
   "codemirror_mode": {
    "name": "ipython",
    "version": 3
   },
   "file_extension": ".py",
   "mimetype": "text/x-python",
   "name": "python",
   "nbconvert_exporter": "python",
   "pygments_lexer": "ipython3",
   "version": "3.8.8"
  }
 },
 "nbformat": 4,
 "nbformat_minor": 5
}
