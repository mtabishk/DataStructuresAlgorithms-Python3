{
 "cells": [
  {
   "cell_type": "code",
   "execution_count": 7,
   "id": "be6168af",
   "metadata": {},
   "outputs": [],
   "source": [
    "from collections import defaultdict"
   ]
  },
  {
   "cell_type": "code",
   "execution_count": 8,
   "id": "ad6ccde5",
   "metadata": {},
   "outputs": [],
   "source": [
    "d = defaultdict(list)"
   ]
  },
  {
   "cell_type": "code",
   "execution_count": 9,
   "id": "498d5b54",
   "metadata": {},
   "outputs": [
    {
     "data": {
      "text/plain": [
       "collections.defaultdict"
      ]
     },
     "execution_count": 9,
     "metadata": {},
     "output_type": "execute_result"
    }
   ],
   "source": [
    "type(d)"
   ]
  },
  {
   "cell_type": "code",
   "execution_count": 11,
   "id": "78a1b32b",
   "metadata": {},
   "outputs": [],
   "source": [
    "d[0] = \"1\""
   ]
  },
  {
   "cell_type": "code",
   "execution_count": 17,
   "id": "fa3f7e2b",
   "metadata": {},
   "outputs": [],
   "source": [
    "for i in range(10):\n",
    "    # d[i].append(i*i)\n",
    "    d[i] = \"user\" + str(i)"
   ]
  },
  {
   "cell_type": "code",
   "execution_count": 18,
   "id": "c4e96500",
   "metadata": {},
   "outputs": [
    {
     "data": {
      "text/plain": [
       "defaultdict(list,\n",
       "            {0: 'user0',\n",
       "             1: 'user1',\n",
       "             2: 'user2',\n",
       "             3: 'user3',\n",
       "             4: 'user4',\n",
       "             5: 'user5',\n",
       "             6: 'user6',\n",
       "             7: 'user7',\n",
       "             8: 'user8',\n",
       "             9: 'user9'})"
      ]
     },
     "execution_count": 18,
     "metadata": {},
     "output_type": "execute_result"
    }
   ],
   "source": [
    "d"
   ]
  },
  {
   "cell_type": "code",
   "execution_count": 65,
   "id": "1cdc328d",
   "metadata": {},
   "outputs": [],
   "source": [
    "class Graph:\n",
    "    def __init__(self, numOfVertices):\n",
    "        self.numOfVertices = numOfVertices\n",
    "        self.graph = defaultdict(list)\n",
    "        \n",
    "    def addEdges(self, vertex, edge):\n",
    "        self.graph[vertex].append(edge)\n",
    "        \n",
    "    def topologicalSortHelper(self, node, visited, stack):\n",
    "        visited.append(node)\n",
    "        for i in self.graph[node]:\n",
    "            if i not in visited:\n",
    "                self.topologicalSortHelper(i,visited, stack)\n",
    "        stack.insert(0, node)\n",
    "    \n",
    "    def topologicalSort(self):\n",
    "        visited = []\n",
    "        stack = []\n",
    "        for node in list(self.graph):\n",
    "            if node not in visited:\n",
    "                self.topologicalSortHelper(node, visited, stack)\n",
    "        return stack"
   ]
  },
  {
   "cell_type": "code",
   "execution_count": 66,
   "id": "491ef178",
   "metadata": {},
   "outputs": [],
   "source": [
    "subject = Graph(8)"
   ]
  },
  {
   "cell_type": "code",
   "execution_count": 67,
   "id": "81ddd4e1",
   "metadata": {},
   "outputs": [
    {
     "data": {
      "text/plain": [
       "8"
      ]
     },
     "execution_count": 67,
     "metadata": {},
     "output_type": "execute_result"
    }
   ],
   "source": [
    "subject.numOfVertices"
   ]
  },
  {
   "cell_type": "code",
   "execution_count": 68,
   "id": "17bca8da",
   "metadata": {},
   "outputs": [
    {
     "data": {
      "text/plain": [
       "defaultdict(list, {})"
      ]
     },
     "execution_count": 68,
     "metadata": {},
     "output_type": "execute_result"
    }
   ],
   "source": [
    "subject.graph"
   ]
  },
  {
   "cell_type": "code",
   "execution_count": 69,
   "id": "e8d79cde",
   "metadata": {},
   "outputs": [],
   "source": [
    "subject.addEdges(\"A\", \"C\")"
   ]
  },
  {
   "cell_type": "code",
   "execution_count": 70,
   "id": "179afd30",
   "metadata": {},
   "outputs": [
    {
     "data": {
      "text/plain": [
       "defaultdict(list, {'A': ['C']})"
      ]
     },
     "execution_count": 70,
     "metadata": {},
     "output_type": "execute_result"
    }
   ],
   "source": [
    "subject.graph"
   ]
  },
  {
   "cell_type": "code",
   "execution_count": 71,
   "id": "4cb49ca5",
   "metadata": {},
   "outputs": [],
   "source": [
    "subject.addEdges(\"C\", \"E\")\n",
    "subject.addEdges(\"E\", \"H\")\n",
    "subject.addEdges(\"E\", \"F\")\n",
    "subject.addEdges(\"F\", \"G\")\n",
    "subject.addEdges(\"B\", \"D\")\n",
    "subject.addEdges(\"B\", \"C\")\n",
    "subject.addEdges(\"D\", \"F\")"
   ]
  },
  {
   "cell_type": "code",
   "execution_count": 73,
   "id": "b5e62ed1",
   "metadata": {},
   "outputs": [
    {
     "data": {
      "text/plain": [
       "defaultdict(list,\n",
       "            {'A': ['C'],\n",
       "             'C': ['E'],\n",
       "             'E': ['H', 'F'],\n",
       "             'F': ['G'],\n",
       "             'B': ['D', 'C'],\n",
       "             'D': ['F']})"
      ]
     },
     "execution_count": 73,
     "metadata": {},
     "output_type": "execute_result"
    }
   ],
   "source": [
    "subject.graph"
   ]
  },
  {
   "cell_type": "code",
   "execution_count": 74,
   "id": "a4dabc09",
   "metadata": {},
   "outputs": [
    {
     "data": {
      "text/plain": [
       "['A', 'C', 'E', 'F', 'B', 'D']"
      ]
     },
     "execution_count": 74,
     "metadata": {},
     "output_type": "execute_result"
    }
   ],
   "source": [
    "list(subject.graph)"
   ]
  },
  {
   "cell_type": "code",
   "execution_count": 75,
   "id": "322677e8",
   "metadata": {},
   "outputs": [
    {
     "data": {
      "text/plain": [
       "['B', 'D', 'A', 'C', 'E', 'F', 'G', 'H']"
      ]
     },
     "execution_count": 75,
     "metadata": {},
     "output_type": "execute_result"
    }
   ],
   "source": [
    "subject.topologicalSort()"
   ]
  },
  {
   "cell_type": "code",
   "execution_count": null,
   "id": "db1ea7d1",
   "metadata": {},
   "outputs": [],
   "source": []
  }
 ],
 "metadata": {
  "kernelspec": {
   "display_name": "Python 3",
   "language": "python",
   "name": "python3"
  },
  "language_info": {
   "codemirror_mode": {
    "name": "ipython",
    "version": 3
   },
   "file_extension": ".py",
   "mimetype": "text/x-python",
   "name": "python",
   "nbconvert_exporter": "python",
   "pygments_lexer": "ipython3",
   "version": "3.8.8"
  }
 },
 "nbformat": 4,
 "nbformat_minor": 5
}
