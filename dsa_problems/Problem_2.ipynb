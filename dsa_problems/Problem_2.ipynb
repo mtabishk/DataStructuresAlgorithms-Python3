{
 "cells": [
  {
   "cell_type": "markdown",
   "id": "eaecab2f",
   "metadata": {},
   "source": [
    "Coding question 2:💻\n",
    "\n",
    "The distance between two cities (in km) is input through keyboard. Write a program to convert and print the distance in meters, feet, inches and centimetres."
   ]
  },
  {
   "cell_type": "code",
   "execution_count": 11,
   "id": "3fba2023",
   "metadata": {},
   "outputs": [],
   "source": [
    "def convertDistance(distance_km):\n",
    "    distance_meters = distance_km * 1000\n",
    "    distance_feet = distance_m * 3.28084\n",
    "    distance_inches = distance_feet * 12\n",
    "    distance_centimeters = distance_inches * 2.54\n",
    "    return distance_meters, distance_feet, distance_inches, distance_centimeters"
   ]
  },
  {
   "cell_type": "code",
   "execution_count": 12,
   "id": "18751780",
   "metadata": {},
   "outputs": [
    {
     "name": "stdout",
     "output_type": "stream",
     "text": [
      "Enter the distance(in kms): 3.2\n"
     ]
    }
   ],
   "source": [
    "distance_km = float(input(\"Enter the distance(in kms): \"))"
   ]
  },
  {
   "cell_type": "code",
   "execution_count": 13,
   "id": "dd95065b",
   "metadata": {},
   "outputs": [],
   "source": [
    "distance_meters, distance_feet, distance_inches, distance_centimeters = convertDistance(distance_km)"
   ]
  },
  {
   "cell_type": "code",
   "execution_count": 14,
   "id": "2046788f",
   "metadata": {},
   "outputs": [
    {
     "name": "stdout",
     "output_type": "stream",
     "text": [
      "Distance in meters: 3200.0\n",
      "Distance in feet: 10498.688\n",
      "Distance in inches: 125984.256\n",
      "Distance in centimeters: 320000.01024\n",
      "\n"
     ]
    }
   ],
   "source": [
    "print(f\"Distance in meters: {distance_meters}\\nDistance in feet: {distance_feet}\\nDistance in inches: {distance_inches}\\nDistance in centimeters: {distance_centimeters}\\n\")"
   ]
  },
  {
   "cell_type": "code",
   "execution_count": null,
   "id": "e45ee924",
   "metadata": {},
   "outputs": [],
   "source": []
  }
 ],
 "metadata": {
  "kernelspec": {
   "display_name": "Python 3",
   "language": "python",
   "name": "python3"
  },
  "language_info": {
   "codemirror_mode": {
    "name": "ipython",
    "version": 3
   },
   "file_extension": ".py",
   "mimetype": "text/x-python",
   "name": "python",
   "nbconvert_exporter": "python",
   "pygments_lexer": "ipython3",
   "version": "3.8.8"
  }
 },
 "nbformat": 4,
 "nbformat_minor": 5
}
