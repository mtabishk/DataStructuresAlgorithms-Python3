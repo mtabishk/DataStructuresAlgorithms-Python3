{
 "cells": [
  {
   "cell_type": "code",
   "execution_count": 1,
   "id": "421629e6",
   "metadata": {},
   "outputs": [],
   "source": [
    "from bst import BSTNode"
   ]
  },
  {
   "cell_type": "code",
   "execution_count": 4,
   "id": "65dacbc3",
   "metadata": {},
   "outputs": [],
   "source": [
    "n1 = BSTNode(60)"
   ]
  },
  {
   "cell_type": "code",
   "execution_count": 5,
   "id": "3635b3de",
   "metadata": {},
   "outputs": [
    {
     "data": {
      "text/plain": [
       "{'data': 60, 'left': None, 'right': None}"
      ]
     },
     "execution_count": 5,
     "metadata": {},
     "output_type": "execute_result"
    }
   ],
   "source": [
    "n1.__dict__"
   ]
  },
  {
   "cell_type": "code",
   "execution_count": null,
   "id": "4db80924",
   "metadata": {},
   "outputs": [],
   "source": [
    "def insertNode(root, data):\n",
    "    if root.data == None:\n",
    "        root.data = data\n",
    "    elif data <= root.data:\n",
    "        # create left child\n",
    "        if root.left == None:\n",
    "            root.left.data = data\n",
    "        else:\n",
    "            insertNode(root.left, data)\n",
    "    else:\n",
    "        # create right child\n",
    "        "
   ]
  }
 ],
 "metadata": {
  "kernelspec": {
   "display_name": "Python 3",
   "language": "python",
   "name": "python3"
  },
  "language_info": {
   "codemirror_mode": {
    "name": "ipython",
    "version": 3
   },
   "file_extension": ".py",
   "mimetype": "text/x-python",
   "name": "python",
   "nbconvert_exporter": "python",
   "pygments_lexer": "ipython3",
   "version": "3.8.0"
  }
 },
 "nbformat": 4,
 "nbformat_minor": 5
}
