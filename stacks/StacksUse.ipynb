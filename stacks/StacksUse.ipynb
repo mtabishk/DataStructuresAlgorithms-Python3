{
 "cells": [
  {
   "cell_type": "code",
   "execution_count": 1,
   "id": "624f5ce2",
   "metadata": {},
   "outputs": [],
   "source": [
    "from stack import Stack"
   ]
  },
  {
   "cell_type": "code",
   "execution_count": 2,
   "id": "12565ae7",
   "metadata": {},
   "outputs": [],
   "source": [
    "mys = Stack()"
   ]
  },
  {
   "cell_type": "code",
   "execution_count": 3,
   "id": "9ea32650",
   "metadata": {},
   "outputs": [],
   "source": [
    "mys.push(\"DevOps\")"
   ]
  },
  {
   "cell_type": "code",
   "execution_count": 4,
   "id": "15d4066b",
   "metadata": {},
   "outputs": [],
   "source": [
    "mys.push(\"AI\")"
   ]
  },
  {
   "cell_type": "code",
   "execution_count": 5,
   "id": "611d2ec5",
   "metadata": {},
   "outputs": [],
   "source": [
    "mys.push(\"Splunk\")"
   ]
  },
  {
   "cell_type": "code",
   "execution_count": 6,
   "id": "116e543d",
   "metadata": {},
   "outputs": [],
   "source": [
    "mys.push(\"Linux\")"
   ]
  },
  {
   "cell_type": "code",
   "execution_count": 7,
   "id": "4f796b51",
   "metadata": {},
   "outputs": [
    {
     "data": {
      "text/plain": [
       "{'myStack': ['DevOps', 'AI', 'Splunk', 'Linux']}"
      ]
     },
     "execution_count": 7,
     "metadata": {},
     "output_type": "execute_result"
    }
   ],
   "source": [
    "mys.__dict__"
   ]
  },
  {
   "cell_type": "code",
   "execution_count": 8,
   "id": "3566d5a8",
   "metadata": {},
   "outputs": [
    {
     "data": {
      "text/plain": [
       "'Linux'"
      ]
     },
     "execution_count": 8,
     "metadata": {},
     "output_type": "execute_result"
    }
   ],
   "source": [
    "mys.pop()"
   ]
  },
  {
   "cell_type": "code",
   "execution_count": 9,
   "id": "b2d86a72",
   "metadata": {},
   "outputs": [
    {
     "data": {
      "text/plain": [
       "'Splunk'"
      ]
     },
     "execution_count": 9,
     "metadata": {},
     "output_type": "execute_result"
    }
   ],
   "source": [
    "mys.pop()"
   ]
  },
  {
   "cell_type": "code",
   "execution_count": 10,
   "id": "e2b24902",
   "metadata": {},
   "outputs": [
    {
     "data": {
      "text/plain": [
       "{'myStack': ['DevOps', 'AI']}"
      ]
     },
     "execution_count": 10,
     "metadata": {},
     "output_type": "execute_result"
    }
   ],
   "source": [
    "mys.__dict__"
   ]
  },
  {
   "cell_type": "code",
   "execution_count": 11,
   "id": "7c65b0c5",
   "metadata": {},
   "outputs": [
    {
     "data": {
      "text/plain": [
       "'AI'"
      ]
     },
     "execution_count": 11,
     "metadata": {},
     "output_type": "execute_result"
    }
   ],
   "source": [
    "mys.pop()"
   ]
  },
  {
   "cell_type": "code",
   "execution_count": 12,
   "id": "1a852be2",
   "metadata": {},
   "outputs": [
    {
     "data": {
      "text/plain": [
       "False"
      ]
     },
     "execution_count": 12,
     "metadata": {},
     "output_type": "execute_result"
    }
   ],
   "source": [
    "mys.isEmpty()"
   ]
  },
  {
   "cell_type": "code",
   "execution_count": 13,
   "id": "5c3ab058",
   "metadata": {},
   "outputs": [
    {
     "data": {
      "text/plain": [
       "'DevOps'"
      ]
     },
     "execution_count": 13,
     "metadata": {},
     "output_type": "execute_result"
    }
   ],
   "source": [
    "mys.pop()"
   ]
  },
  {
   "cell_type": "code",
   "execution_count": 14,
   "id": "cbf1e7ed",
   "metadata": {},
   "outputs": [
    {
     "data": {
      "text/plain": [
       "True"
      ]
     },
     "execution_count": 14,
     "metadata": {},
     "output_type": "execute_result"
    }
   ],
   "source": [
    "mys.isEmpty()"
   ]
  },
  {
   "cell_type": "code",
   "execution_count": 15,
   "id": "a328857d",
   "metadata": {},
   "outputs": [
    {
     "ename": "IndexError",
     "evalue": "list index out of range",
     "output_type": "error",
     "traceback": [
      "\u001b[1;31m---------------------------------------------------------------------------\u001b[0m",
      "\u001b[1;31mIndexError\u001b[0m                                Traceback (most recent call last)",
      "\u001b[1;32m<ipython-input-15-22befac4bdd2>\u001b[0m in \u001b[0;36m<module>\u001b[1;34m\u001b[0m\n\u001b[1;32m----> 1\u001b[1;33m \u001b[0mmys\u001b[0m\u001b[1;33m.\u001b[0m\u001b[0mtop\u001b[0m\u001b[1;33m(\u001b[0m\u001b[1;33m)\u001b[0m\u001b[1;33m\u001b[0m\u001b[1;33m\u001b[0m\u001b[0m\n\u001b[0m",
      "\u001b[1;32m~\\Desktop\\LW-ARTH-ws\\DataStructuresAlgorithms-Python3\\stacks\\stack.py\u001b[0m in \u001b[0;36mtop\u001b[1;34m(self)\u001b[0m\n\u001b[0;32m     13\u001b[0m \u001b[1;33m\u001b[0m\u001b[0m\n\u001b[0;32m     14\u001b[0m     \u001b[1;32mdef\u001b[0m \u001b[0mtop\u001b[0m\u001b[1;33m(\u001b[0m\u001b[0mself\u001b[0m\u001b[1;33m)\u001b[0m\u001b[1;33m:\u001b[0m\u001b[1;33m\u001b[0m\u001b[1;33m\u001b[0m\u001b[0m\n\u001b[1;32m---> 15\u001b[1;33m         \u001b[1;32mreturn\u001b[0m \u001b[0mself\u001b[0m\u001b[1;33m.\u001b[0m\u001b[0mmyStack\u001b[0m\u001b[1;33m[\u001b[0m\u001b[0mlen\u001b[0m\u001b[1;33m(\u001b[0m\u001b[0mself\u001b[0m\u001b[1;33m.\u001b[0m\u001b[0mmyStack\u001b[0m\u001b[1;33m)\u001b[0m \u001b[1;33m-\u001b[0m \u001b[1;36m1\u001b[0m\u001b[1;33m]\u001b[0m\u001b[1;33m\u001b[0m\u001b[1;33m\u001b[0m\u001b[0m\n\u001b[0m\u001b[0;32m     16\u001b[0m \u001b[1;33m\u001b[0m\u001b[0m\n\u001b[0;32m     17\u001b[0m     \u001b[1;32mdef\u001b[0m \u001b[0mprintStack\u001b[0m\u001b[1;33m(\u001b[0m\u001b[0mself\u001b[0m\u001b[1;33m)\u001b[0m\u001b[1;33m:\u001b[0m\u001b[1;33m\u001b[0m\u001b[1;33m\u001b[0m\u001b[0m\n",
      "\u001b[1;31mIndexError\u001b[0m: list index out of range"
     ]
    }
   ],
   "source": [
    "mys.top()"
   ]
  },
  {
   "cell_type": "code",
   "execution_count": null,
   "id": "ffeaefb1",
   "metadata": {},
   "outputs": [],
   "source": []
  }
 ],
 "metadata": {
  "kernelspec": {
   "display_name": "Python 3",
   "language": "python",
   "name": "python3"
  },
  "language_info": {
   "codemirror_mode": {
    "name": "ipython",
    "version": 3
   },
   "file_extension": ".py",
   "mimetype": "text/x-python",
   "name": "python",
   "nbconvert_exporter": "python",
   "pygments_lexer": "ipython3",
   "version": "3.8.8"
  }
 },
 "nbformat": 4,
 "nbformat_minor": 5
}
