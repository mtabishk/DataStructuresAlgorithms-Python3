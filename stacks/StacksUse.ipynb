{
 "cells": [
  {
   "cell_type": "code",
   "execution_count": 1,
   "id": "624f5ce2",
   "metadata": {},
   "outputs": [],
   "source": [
    "from stack import Stack"
   ]
  },
  {
   "cell_type": "code",
   "execution_count": 2,
   "id": "12565ae7",
   "metadata": {},
   "outputs": [],
   "source": [
    "mys = Stack()"
   ]
  },
  {
   "cell_type": "code",
   "execution_count": 17,
   "id": "9ea32650",
   "metadata": {},
   "outputs": [],
   "source": [
    "mys.push(\"DevOps\")"
   ]
  },
  {
   "cell_type": "code",
   "execution_count": 18,
   "id": "15d4066b",
   "metadata": {},
   "outputs": [],
   "source": [
    "mys.push(\"AI\")"
   ]
  },
  {
   "cell_type": "code",
   "execution_count": 19,
   "id": "611d2ec5",
   "metadata": {},
   "outputs": [],
   "source": [
    "mys.push(\"Splunk\")"
   ]
  },
  {
   "cell_type": "code",
   "execution_count": 20,
   "id": "116e543d",
   "metadata": {},
   "outputs": [],
   "source": [
    "mys.push(\"Linux\")"
   ]
  },
  {
   "cell_type": "code",
   "execution_count": 21,
   "id": "4f796b51",
   "metadata": {},
   "outputs": [
    {
     "data": {
      "text/plain": [
       "{'myStack': ['DevOps', 'AI', 'Splunk', 'Linux']}"
      ]
     },
     "execution_count": 21,
     "metadata": {},
     "output_type": "execute_result"
    }
   ],
   "source": [
    "mys.__dict__"
   ]
  },
  {
   "cell_type": "code",
   "execution_count": 8,
   "id": "3566d5a8",
   "metadata": {},
   "outputs": [
    {
     "data": {
      "text/plain": [
       "'Linux'"
      ]
     },
     "execution_count": 8,
     "metadata": {},
     "output_type": "execute_result"
    }
   ],
   "source": [
    "mys.pop()"
   ]
  },
  {
   "cell_type": "code",
   "execution_count": 9,
   "id": "b2d86a72",
   "metadata": {},
   "outputs": [
    {
     "data": {
      "text/plain": [
       "'Splunk'"
      ]
     },
     "execution_count": 9,
     "metadata": {},
     "output_type": "execute_result"
    }
   ],
   "source": [
    "mys.pop()"
   ]
  },
  {
   "cell_type": "code",
   "execution_count": 10,
   "id": "e2b24902",
   "metadata": {},
   "outputs": [
    {
     "data": {
      "text/plain": [
       "{'myStack': ['DevOps', 'AI']}"
      ]
     },
     "execution_count": 10,
     "metadata": {},
     "output_type": "execute_result"
    }
   ],
   "source": [
    "mys.__dict__"
   ]
  },
  {
   "cell_type": "code",
   "execution_count": 11,
   "id": "7c65b0c5",
   "metadata": {},
   "outputs": [
    {
     "data": {
      "text/plain": [
       "'AI'"
      ]
     },
     "execution_count": 11,
     "metadata": {},
     "output_type": "execute_result"
    }
   ],
   "source": [
    "mys.pop()"
   ]
  },
  {
   "cell_type": "code",
   "execution_count": 12,
   "id": "1a852be2",
   "metadata": {},
   "outputs": [
    {
     "data": {
      "text/plain": [
       "False"
      ]
     },
     "execution_count": 12,
     "metadata": {},
     "output_type": "execute_result"
    }
   ],
   "source": [
    "mys.isEmpty()"
   ]
  },
  {
   "cell_type": "code",
   "execution_count": 13,
   "id": "5c3ab058",
   "metadata": {},
   "outputs": [
    {
     "data": {
      "text/plain": [
       "'DevOps'"
      ]
     },
     "execution_count": 13,
     "metadata": {},
     "output_type": "execute_result"
    }
   ],
   "source": [
    "mys.pop()"
   ]
  },
  {
   "cell_type": "code",
   "execution_count": 14,
   "id": "cbf1e7ed",
   "metadata": {},
   "outputs": [
    {
     "data": {
      "text/plain": [
       "True"
      ]
     },
     "execution_count": 14,
     "metadata": {},
     "output_type": "execute_result"
    }
   ],
   "source": [
    "mys.isEmpty()"
   ]
  },
  {
   "cell_type": "code",
   "execution_count": 15,
   "id": "a328857d",
   "metadata": {},
   "outputs": [
    {
     "data": {
      "text/plain": [
       "'Stack is Empty'"
      ]
     },
     "execution_count": 15,
     "metadata": {},
     "output_type": "execute_result"
    }
   ],
   "source": [
    "mys.top()"
   ]
  },
  {
   "cell_type": "code",
   "execution_count": 22,
   "id": "ffeaefb1",
   "metadata": {},
   "outputs": [
    {
     "name": "stdout",
     "output_type": "stream",
     "text": [
      "Linux\n",
      "Splunk\n",
      "AI\n",
      "DevOps\n"
     ]
    }
   ],
   "source": [
    "mys.printStack()"
   ]
  },
  {
   "cell_type": "code",
   "execution_count": null,
   "id": "53dfe3e2",
   "metadata": {},
   "outputs": [],
   "source": []
  }
 ],
 "metadata": {
  "kernelspec": {
   "display_name": "Python 3",
   "language": "python",
   "name": "python3"
  },
  "language_info": {
   "codemirror_mode": {
    "name": "ipython",
    "version": 3
   },
   "file_extension": ".py",
   "mimetype": "text/x-python",
   "name": "python",
   "nbconvert_exporter": "python",
   "pygments_lexer": "ipython3",
   "version": "3.8.8"
  }
 },
 "nbformat": 4,
 "nbformat_minor": 5
}
