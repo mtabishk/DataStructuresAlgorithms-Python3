{
 "cells": [
  {
   "cell_type": "code",
   "execution_count": 1,
   "id": "421629e6",
   "metadata": {},
   "outputs": [],
   "source": [
    "from bst import BSTNode"
   ]
  },
  {
   "cell_type": "code",
   "execution_count": 2,
   "id": "65dacbc3",
   "metadata": {},
   "outputs": [],
   "source": [
    "n1 = BSTNode(60)"
   ]
  },
  {
   "cell_type": "code",
   "execution_count": 3,
   "id": "3635b3de",
   "metadata": {},
   "outputs": [
    {
     "data": {
      "text/plain": [
       "{'data': 60, 'left': None, 'right': None}"
      ]
     },
     "execution_count": 3,
     "metadata": {},
     "output_type": "execute_result"
    }
   ],
   "source": [
    "n1.__dict__"
   ]
  },
  {
   "cell_type": "code",
   "execution_count": 4,
   "id": "4db80924",
   "metadata": {},
   "outputs": [],
   "source": [
    "def insertNode(root, data):\n",
    "    if root == None:\n",
    "        root.data = data \n",
    "    elif data <= root.data:\n",
    "        # create left child\n",
    "        if root.left is None:\n",
    "            root.left = BSTNode(data)\n",
    "        else:\n",
    "            insertNode(root.left, data)\n",
    "    elif data > root.data: \n",
    "        # create right child\n",
    "        if root.right is None:\n",
    "            root.right = BSTNode(data)\n",
    "        else:\n",
    "            insertNode(root.right, data)"
   ]
  },
  {
   "cell_type": "code",
   "execution_count": 5,
   "id": "50256427",
   "metadata": {},
   "outputs": [],
   "source": [
    "insertNode(n1, 40)"
   ]
  },
  {
   "cell_type": "code",
   "execution_count": 6,
   "id": "417bca58",
   "metadata": {},
   "outputs": [
    {
     "data": {
      "text/plain": [
       "{'data': 60, 'left': <bst.BSTNode at 0x1be6ff68f10>, 'right': None}"
      ]
     },
     "execution_count": 6,
     "metadata": {},
     "output_type": "execute_result"
    }
   ],
   "source": [
    "n1.__dict__"
   ]
  },
  {
   "cell_type": "code",
   "execution_count": 7,
   "id": "959cb673",
   "metadata": {},
   "outputs": [],
   "source": [
    "insertNode(n1, 20)"
   ]
  },
  {
   "cell_type": "code",
   "execution_count": 8,
   "id": "3fc3354c",
   "metadata": {},
   "outputs": [
    {
     "data": {
      "text/plain": [
       "{'data': 40, 'left': <bst.BSTNode at 0x1be6ffad400>, 'right': None}"
      ]
     },
     "execution_count": 8,
     "metadata": {},
     "output_type": "execute_result"
    }
   ],
   "source": [
    "n1.left.__dict__"
   ]
  },
  {
   "cell_type": "code",
   "execution_count": 9,
   "id": "4fc7d261",
   "metadata": {},
   "outputs": [],
   "source": [
    "insertNode(n1, 50)"
   ]
  },
  {
   "cell_type": "code",
   "execution_count": 10,
   "id": "18b2bb4e",
   "metadata": {},
   "outputs": [],
   "source": [
    "insertNode(n1, 80)"
   ]
  },
  {
   "cell_type": "code",
   "execution_count": 13,
   "id": "6189f527",
   "metadata": {},
   "outputs": [],
   "source": [
    "preOrderRes = []"
   ]
  },
  {
   "cell_type": "code",
   "execution_count": 14,
   "id": "721f5e6d",
   "metadata": {},
   "outputs": [],
   "source": [
    "def preOrderTraversal(node):\n",
    "    if node is None:\n",
    "        return\n",
    "    preOrderRes.append(node.data)\n",
    "    preOrderTraversal(node.left)\n",
    "    preOrderTraversal(node.right)\n",
    "    return "
   ]
  },
  {
   "cell_type": "code",
   "execution_count": 15,
   "id": "fac7a3d0",
   "metadata": {},
   "outputs": [],
   "source": [
    "preOrderTraversal(n1)"
   ]
  },
  {
   "cell_type": "code",
   "execution_count": 16,
   "id": "b0e9899a",
   "metadata": {},
   "outputs": [
    {
     "data": {
      "text/plain": [
       "[60, 40, 20, 50, 80]"
      ]
     },
     "execution_count": 16,
     "metadata": {},
     "output_type": "execute_result"
    }
   ],
   "source": [
    "preOrderRes"
   ]
  },
  {
   "cell_type": "code",
   "execution_count": 17,
   "id": "c94ea984",
   "metadata": {},
   "outputs": [],
   "source": [
    "levelOrderRes = []\n",
    "from collections import deque\n",
    "def levelOrderTraversal(node):\n",
    "    if node is None:\n",
    "        return None\n",
    "    queue = deque()\n",
    "    queue.append(node)\n",
    "    while len(queue) != 0:\n",
    "        item = queue.popleft()\n",
    "        levelOrderRes.append(item.data)\n",
    "        if item.left is not None:\n",
    "            queue.append(item.left)\n",
    "        if item.right is not None:\n",
    "            queue.append(item.right)\n",
    "            \n",
    "    return "
   ]
  },
  {
   "cell_type": "code",
   "execution_count": 19,
   "id": "3ebb1881",
   "metadata": {},
   "outputs": [],
   "source": [
    "levelOrderTraversal(n1)"
   ]
  },
  {
   "cell_type": "code",
   "execution_count": 20,
   "id": "11b9d886",
   "metadata": {},
   "outputs": [
    {
     "data": {
      "text/plain": [
       "[60, 40, 80, 20, 50]"
      ]
     },
     "execution_count": 20,
     "metadata": {},
     "output_type": "execute_result"
    }
   ],
   "source": [
    "levelOrderRes"
   ]
  },
  {
   "cell_type": "code",
   "execution_count": null,
   "id": "2990d6c4",
   "metadata": {},
   "outputs": [],
   "source": []
  }
 ],
 "metadata": {
  "kernelspec": {
   "display_name": "Python 3",
   "language": "python",
   "name": "python3"
  },
  "language_info": {
   "codemirror_mode": {
    "name": "ipython",
    "version": 3
   },
   "file_extension": ".py",
   "mimetype": "text/x-python",
   "name": "python",
   "nbconvert_exporter": "python",
   "pygments_lexer": "ipython3",
   "version": "3.8.8"
  }
 },
 "nbformat": 4,
 "nbformat_minor": 5
}
