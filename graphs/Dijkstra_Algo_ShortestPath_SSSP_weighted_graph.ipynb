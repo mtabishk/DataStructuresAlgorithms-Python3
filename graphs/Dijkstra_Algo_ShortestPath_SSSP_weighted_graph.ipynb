{
 "cells": [
  {
   "cell_type": "code",
   "execution_count": 1,
   "id": "35a3e569",
   "metadata": {},
   "outputs": [],
   "source": [
    "from collections import defaultdict"
   ]
  },
  {
   "cell_type": "code",
   "execution_count": 13,
   "id": "6a835ec8",
   "metadata": {},
   "outputs": [],
   "source": [
    "class Graph:\n",
    "        def __init__(self):\n",
    "            self.nodes = set() # set datatype has only unique elements\n",
    "            self.edges = defaultdict(list)\n",
    "            self.weights = {}\n",
    "        \n",
    "        def add_node(self, value):\n",
    "            self.nodes.add(value)\n",
    "        \n",
    "        def add_edges(self, fromCity, toCity, cost):\n",
    "            self.edges[fromCity].append(toCity)\n",
    "            self.weights[(fromCity, toCity)] = cost # cost == weight"
   ]
  },
  {
   "cell_type": "code",
   "execution_count": 30,
   "id": "a39fe3bf",
   "metadata": {},
   "outputs": [],
   "source": [
    "cities = Graph()"
   ]
  },
  {
   "cell_type": "code",
   "execution_count": 31,
   "id": "0d606e26",
   "metadata": {},
   "outputs": [],
   "source": [
    "cities.add_node(\"Jaipur\")\n",
    "cities.add_node(\"Delhi\")\n",
    "cities.add_node(\"Mumbai\")\n",
    "cities.add_node(\"Hydrabad\")\n",
    "cities.add_node(\"Goa\")"
   ]
  },
  {
   "cell_type": "code",
   "execution_count": 32,
   "id": "40222e89",
   "metadata": {},
   "outputs": [
    {
     "data": {
      "text/plain": [
       "{'Delhi', 'Goa', 'Hydrabad', 'Jaipur', 'Mumbai'}"
      ]
     },
     "execution_count": 32,
     "metadata": {},
     "output_type": "execute_result"
    }
   ],
   "source": [
    "cities.nodes"
   ]
  },
  {
   "cell_type": "code",
   "execution_count": 33,
   "id": "d08bbec0",
   "metadata": {},
   "outputs": [],
   "source": [
    "cities.add_edges(\"Jaipur\", \"Mumbai\", 4)"
   ]
  },
  {
   "cell_type": "code",
   "execution_count": 34,
   "id": "7f1a88af",
   "metadata": {},
   "outputs": [
    {
     "data": {
      "text/plain": [
       "defaultdict(list, {'Jaipur': ['Mumbai']})"
      ]
     },
     "execution_count": 34,
     "metadata": {},
     "output_type": "execute_result"
    }
   ],
   "source": [
    "cities.edges"
   ]
  },
  {
   "cell_type": "code",
   "execution_count": 35,
   "id": "bbbb9d5e",
   "metadata": {},
   "outputs": [
    {
     "data": {
      "text/plain": [
       "{('Jaipur', 'Mumbai'): 4}"
      ]
     },
     "execution_count": 35,
     "metadata": {},
     "output_type": "execute_result"
    }
   ],
   "source": [
    "cities.weights"
   ]
  },
  {
   "cell_type": "code",
   "execution_count": 36,
   "id": "772d1c72",
   "metadata": {},
   "outputs": [],
   "source": [
    "cities.add_edges(\"Jaipur\", \"Delhi\", 2)\n",
    "cities.add_edges(\"Jaipur\", \"Mumbai\", 5)\n",
    "cities.add_edges(\"Hydrabad\", \"Goa\", 3)\n",
    "cities.add_edges(\"Mumbai\", \"Goa\", 2)\n",
    "cities.add_edges(\"Delhi\", \"Goa\", 6)"
   ]
  },
  {
   "cell_type": "code",
   "execution_count": 37,
   "id": "6bbbe1cd",
   "metadata": {},
   "outputs": [
    {
     "data": {
      "text/plain": [
       "defaultdict(list,\n",
       "            {'Jaipur': ['Mumbai', 'Delhi', 'Mumbai'],\n",
       "             'Hydrabad': ['Goa'],\n",
       "             'Mumbai': ['Goa'],\n",
       "             'Delhi': ['Goa']})"
      ]
     },
     "execution_count": 37,
     "metadata": {},
     "output_type": "execute_result"
    }
   ],
   "source": [
    "cities.edges"
   ]
  },
  {
   "cell_type": "code",
   "execution_count": 38,
   "id": "f17f1dde",
   "metadata": {},
   "outputs": [
    {
     "data": {
      "text/plain": [
       "{('Jaipur', 'Mumbai'): 5,\n",
       " ('Jaipur', 'Delhi'): 2,\n",
       " ('Hydrabad', 'Goa'): 3,\n",
       " ('Mumbai', 'Goa'): 2,\n",
       " ('Delhi', 'Goa'): 6}"
      ]
     },
     "execution_count": 38,
     "metadata": {},
     "output_type": "execute_result"
    }
   ],
   "source": [
    "cities.weights"
   ]
  },
  {
   "cell_type": "code",
   "execution_count": null,
   "id": "c05dfe8c",
   "metadata": {},
   "outputs": [],
   "source": []
  }
 ],
 "metadata": {
  "kernelspec": {
   "display_name": "Python 3",
   "language": "python",
   "name": "python3"
  },
  "language_info": {
   "codemirror_mode": {
    "name": "ipython",
    "version": 3
   },
   "file_extension": ".py",
   "mimetype": "text/x-python",
   "name": "python",
   "nbconvert_exporter": "python",
   "pygments_lexer": "ipython3",
   "version": "3.8.8"
  }
 },
 "nbformat": 4,
 "nbformat_minor": 5
}
