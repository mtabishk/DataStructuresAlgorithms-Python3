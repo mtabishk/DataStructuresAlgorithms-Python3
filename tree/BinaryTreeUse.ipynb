{
 "cells": [
  {
   "cell_type": "code",
   "execution_count": 2,
   "id": "ca828dcf",
   "metadata": {},
   "outputs": [],
   "source": [
    "from binary_tree import BinaryTreeNode"
   ]
  },
  {
   "cell_type": "code",
   "execution_count": 3,
   "id": "69c852fa",
   "metadata": {},
   "outputs": [
    {
     "data": {
      "text/plain": [
       "binary_tree.BinaryTreeNode"
      ]
     },
     "execution_count": 3,
     "metadata": {},
     "output_type": "execute_result"
    }
   ],
   "source": [
    "BinaryTreeNode"
   ]
  },
  {
   "cell_type": "code",
   "execution_count": 3,
   "id": "28a9f44a",
   "metadata": {},
   "outputs": [],
   "source": [
    "root = BinaryTreeNode(\"Drinks\")"
   ]
  },
  {
   "cell_type": "code",
   "execution_count": 4,
   "id": "b5de00c7",
   "metadata": {},
   "outputs": [
    {
     "data": {
      "text/plain": [
       "{'left': None, 'right': None, 'data': 'Drinks'}"
      ]
     },
     "execution_count": 4,
     "metadata": {},
     "output_type": "execute_result"
    }
   ],
   "source": [
    "root.__dict__"
   ]
  },
  {
   "cell_type": "code",
   "execution_count": 5,
   "id": "16ce41da",
   "metadata": {},
   "outputs": [],
   "source": [
    "hot = BinaryTreeNode(\"hot\")\n",
    "cold = BinaryTreeNode(\"cold\")"
   ]
  },
  {
   "cell_type": "code",
   "execution_count": 6,
   "id": "7915db40",
   "metadata": {},
   "outputs": [],
   "source": [
    "root.left = hot\n",
    "root.right= cold"
   ]
  },
  {
   "cell_type": "code",
   "execution_count": 7,
   "id": "fe66e063",
   "metadata": {},
   "outputs": [
    {
     "data": {
      "text/plain": [
       "{'left': <binary_tree.BinaryTreeNode at 0x7f6104345370>,\n",
       " 'right': <binary_tree.BinaryTreeNode at 0x7f6104345430>,\n",
       " 'data': 'Drinks'}"
      ]
     },
     "execution_count": 7,
     "metadata": {},
     "output_type": "execute_result"
    }
   ],
   "source": [
    "root.__dict__"
   ]
  },
  {
   "cell_type": "markdown",
   "id": "d5b3426f",
   "metadata": {},
   "source": [
    "# PreOrder Traversal"
   ]
  },
  {
   "cell_type": "code",
   "execution_count": 40,
   "id": "8536a45c",
   "metadata": {},
   "outputs": [],
   "source": [
    "preOrderRes = []"
   ]
  },
  {
   "cell_type": "code",
   "execution_count": 41,
   "id": "b2ebc40b",
   "metadata": {},
   "outputs": [],
   "source": [
    "def preOrderTraversal(node):\n",
    "    if node is None:\n",
    "        return\n",
    "    preOrderRes.append(node.data)\n",
    "    preOrderTraversal(node.left)\n",
    "    preOrderTraversal(node.right)\n",
    "    return "
   ]
  },
  {
   "cell_type": "code",
   "execution_count": 42,
   "id": "ec8da00f",
   "metadata": {},
   "outputs": [],
   "source": [
    "preOrderTraversal(root)"
   ]
  },
  {
   "cell_type": "code",
   "execution_count": 43,
   "id": "3fc4b5ba",
   "metadata": {},
   "outputs": [
    {
     "data": {
      "text/plain": [
       "['Drinks', 'hot', 'cold']"
      ]
     },
     "execution_count": 43,
     "metadata": {},
     "output_type": "execute_result"
    }
   ],
   "source": [
    "preOrderRes"
   ]
  },
  {
   "cell_type": "markdown",
   "id": "c5c53f75",
   "metadata": {},
   "source": [
    "# PostOrder Traversal"
   ]
  },
  {
   "cell_type": "code",
   "execution_count": 61,
   "id": "0e7d08d6",
   "metadata": {},
   "outputs": [],
   "source": [
    "postOrderRes = []"
   ]
  },
  {
   "cell_type": "code",
   "execution_count": 62,
   "id": "fa2333f9",
   "metadata": {},
   "outputs": [],
   "source": [
    "def postOrderTraversal(node):\n",
    "    if node is None:\n",
    "        return\n",
    "    postOrderTraversal(node.left)\n",
    "    postOrderTraversal(node.right)\n",
    "    postOrderRes.append(node.data)\n",
    "    return"
   ]
  },
  {
   "cell_type": "code",
   "execution_count": 63,
   "id": "024c522e",
   "metadata": {},
   "outputs": [],
   "source": [
    "postOrderTraversal(root)"
   ]
  },
  {
   "cell_type": "code",
   "execution_count": 64,
   "id": "1960c829",
   "metadata": {},
   "outputs": [
    {
     "data": {
      "text/plain": [
       "['hot', 'cold', 'Drinks']"
      ]
     },
     "execution_count": 64,
     "metadata": {},
     "output_type": "execute_result"
    }
   ],
   "source": [
    "postOrderRes"
   ]
  },
  {
   "cell_type": "markdown",
   "id": "936f9f84",
   "metadata": {},
   "source": [
    "# InOrder Traversal"
   ]
  },
  {
   "cell_type": "code",
   "execution_count": 69,
   "id": "ce6206e9",
   "metadata": {},
   "outputs": [],
   "source": [
    "inOrderRes = []"
   ]
  },
  {
   "cell_type": "code",
   "execution_count": 70,
   "id": "8de26a60",
   "metadata": {},
   "outputs": [],
   "source": [
    "def inOrderTraversal(node):\n",
    "    if node is None:\n",
    "        return\n",
    "    inOrderTraversal(node.left)\n",
    "    inOrderRes.append(node.data)\n",
    "    inOrderTraversal(node.right)\n",
    "    return"
   ]
  },
  {
   "cell_type": "code",
   "execution_count": 72,
   "id": "e5e10f37",
   "metadata": {},
   "outputs": [],
   "source": [
    "inOrderTraversal(root)"
   ]
  },
  {
   "cell_type": "code",
   "execution_count": 73,
   "id": "75d5451b",
   "metadata": {},
   "outputs": [
    {
     "data": {
      "text/plain": [
       "['hot', 'Drinks', 'cold']"
      ]
     },
     "execution_count": 73,
     "metadata": {},
     "output_type": "execute_result"
    }
   ],
   "source": [
    "inOrderRes"
   ]
  },
  {
   "cell_type": "markdown",
   "id": "d477c0be",
   "metadata": {},
   "source": [
    "# Level Order Traversal"
   ]
  },
  {
   "cell_type": "code",
   "execution_count": 3,
   "id": "0a7b3fce",
   "metadata": {},
   "outputs": [],
   "source": [
    "root = BinaryTreeNode(\"Drinks\")"
   ]
  },
  {
   "cell_type": "code",
   "execution_count": 4,
   "id": "d8b9563b",
   "metadata": {},
   "outputs": [
    {
     "data": {
      "text/plain": [
       "{'left': None, 'right': None, 'data': 'Drinks'}"
      ]
     },
     "execution_count": 4,
     "metadata": {},
     "output_type": "execute_result"
    }
   ],
   "source": [
    "root.__dict__"
   ]
  },
  {
   "cell_type": "code",
   "execution_count": 5,
   "id": "f466e6ef",
   "metadata": {},
   "outputs": [],
   "source": [
    "hot = BinaryTreeNode(\"Hot\")"
   ]
  },
  {
   "cell_type": "code",
   "execution_count": 6,
   "id": "2e5678aa",
   "metadata": {},
   "outputs": [],
   "source": [
    "cold = BinaryTreeNode(\"Cold\")"
   ]
  },
  {
   "cell_type": "code",
   "execution_count": 7,
   "id": "7b762dd6",
   "metadata": {},
   "outputs": [],
   "source": [
    "root.left = hot\n",
    "root.right = cold"
   ]
  },
  {
   "cell_type": "code",
   "execution_count": 8,
   "id": "d0a8cefc",
   "metadata": {},
   "outputs": [
    {
     "data": {
      "text/plain": [
       "{'left': <binary_tree.BinaryTreeNode at 0x7f9665c2f550>,\n",
       " 'right': <binary_tree.BinaryTreeNode at 0x7f9665c2f5e0>,\n",
       " 'data': 'Drinks'}"
      ]
     },
     "execution_count": 8,
     "metadata": {},
     "output_type": "execute_result"
    }
   ],
   "source": [
    "root.__dict__"
   ]
  },
  {
   "cell_type": "code",
   "execution_count": 9,
   "id": "60e7b450",
   "metadata": {},
   "outputs": [
    {
     "data": {
      "text/plain": [
       "'Hot'"
      ]
     },
     "execution_count": 9,
     "metadata": {},
     "output_type": "execute_result"
    }
   ],
   "source": [
    "root.left.data"
   ]
  },
  {
   "cell_type": "code",
   "execution_count": 10,
   "id": "584dc1c9",
   "metadata": {},
   "outputs": [],
   "source": [
    "tea = BinaryTreeNode(\"Tea\")\n",
    "coffee = BinaryTreeNode(\"Coffee\")"
   ]
  },
  {
   "cell_type": "code",
   "execution_count": 11,
   "id": "35c54ffc",
   "metadata": {},
   "outputs": [],
   "source": [
    "coke = BinaryTreeNode(\"Coke\")\n",
    "pepsi = BinaryTreeNode(\"Pepsi\")"
   ]
  },
  {
   "cell_type": "code",
   "execution_count": 12,
   "id": "996f8c48",
   "metadata": {},
   "outputs": [],
   "source": [
    "hot.left = tea\n",
    "hot.right = coffee"
   ]
  },
  {
   "cell_type": "code",
   "execution_count": 13,
   "id": "33823869",
   "metadata": {},
   "outputs": [],
   "source": [
    "cold.left = coke\n",
    "cold.right = pepsi"
   ]
  },
  {
   "cell_type": "code",
   "execution_count": 14,
   "id": "ccdbdd0a",
   "metadata": {},
   "outputs": [],
   "source": [
    "levelOrderRes = []"
   ]
  },
  {
   "cell_type": "code",
   "execution_count": 15,
   "id": "9b62ec38",
   "metadata": {},
   "outputs": [],
   "source": [
    "# declaring deque. queue = deque \n",
    "from collections import deque"
   ]
  },
  {
   "cell_type": "code",
   "execution_count": 16,
   "id": "290e3550",
   "metadata": {},
   "outputs": [],
   "source": [
    "def levelOrderTraversal(node):\n",
    "    if node is None:\n",
    "        return None\n",
    "    queue = deque()\n",
    "    queue.append(node)\n",
    "    while len(queue) != 0:\n",
    "        item = queue.popleft()\n",
    "        levelOrderRes.append(item.data)\n",
    "        if item.left is not None:\n",
    "            queue.append(item.left)\n",
    "        if item.right is not None:\n",
    "            queue.append(item.right)\n",
    "            \n",
    "    return \n",
    "        "
   ]
  },
  {
   "cell_type": "code",
   "execution_count": 17,
   "id": "bb91399c",
   "metadata": {},
   "outputs": [],
   "source": [
    "levelOrderTraversal(root)"
   ]
  },
  {
   "cell_type": "code",
   "execution_count": 18,
   "id": "9cd2ff31",
   "metadata": {},
   "outputs": [
    {
     "data": {
      "text/plain": [
       "['Drinks', 'Hot', 'Cold', 'Tea', 'Coffee', 'Coke', 'Pepsi']"
      ]
     },
     "execution_count": 18,
     "metadata": {},
     "output_type": "execute_result"
    }
   ],
   "source": [
    "levelOrderRes"
   ]
  },
  {
   "cell_type": "code",
   "execution_count": null,
   "id": "5f06db66",
   "metadata": {},
   "outputs": [],
   "source": []
  },
  {
   "cell_type": "code",
   "execution_count": null,
   "id": "5b48e837",
   "metadata": {},
   "outputs": [],
   "source": []
  },
  {
   "cell_type": "code",
   "execution_count": null,
   "id": "74b8d0b2",
   "metadata": {},
   "outputs": [],
   "source": []
  }
 ],
 "metadata": {
  "kernelspec": {
   "display_name": "Python 3",
   "language": "python",
   "name": "python3"
  },
  "language_info": {
   "codemirror_mode": {
    "name": "ipython",
    "version": 3
   },
   "file_extension": ".py",
   "mimetype": "text/x-python",
   "name": "python",
   "nbconvert_exporter": "python",
   "pygments_lexer": "ipython3",
   "version": "3.8.0"
  }
 },
 "nbformat": 4,
 "nbformat_minor": 5
}
