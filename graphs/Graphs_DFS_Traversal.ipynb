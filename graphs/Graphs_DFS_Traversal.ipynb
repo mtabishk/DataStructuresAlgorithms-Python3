{
 "cells": [
  {
   "cell_type": "code",
   "execution_count": null,
   "id": "400a1998",
   "metadata": {},
   "outputs": [],
   "source": [
    "names = [\"jason\", \"rock\", \"polog\", \"baby\"]"
   ]
  },
  {
   "cell_type": "code",
   "execution_count": null,
   "id": "5739f43c",
   "metadata": {},
   "outputs": [],
   "source": [
    "\"\".join(names)"
   ]
  },
  {
   "cell_type": "code",
   "execution_count": null,
   "id": "2ead3a38",
   "metadata": {},
   "outputs": [],
   "source": [
    "\"-\".join(names)"
   ]
  },
  {
   "cell_type": "code",
   "execution_count": null,
   "id": "2837a29a",
   "metadata": {},
   "outputs": [],
   "source": [
    "\" \".join(names)"
   ]
  },
  {
   "cell_type": "code",
   "execution_count": null,
   "id": "b585a40a",
   "metadata": {},
   "outputs": [],
   "source": [
    "print(\"\\n\".join(names))"
   ]
  },
  {
   "cell_type": "code",
   "execution_count": 1,
   "id": "b4b41776",
   "metadata": {},
   "outputs": [],
   "source": [
    " from graphs import Graph"
   ]
  },
  {
   "cell_type": "code",
   "execution_count": 5,
   "id": "1b70fa2e",
   "metadata": {},
   "outputs": [],
   "source": [
    "myLinkedIn = {\n",
    "    \"bob\": ['rock', 'eric', 'jason', 'jack', 'pop'],\n",
    "    \"rock\": ['bob', 'jason'],\n",
    "    \"eric\": ['bob', 'jack', 'pop'],\n",
    "    \"jason\": ['rock'],\n",
    "    \"jack\": ['bob', 'rock', 'eric', 'jason', 'pop'],\n",
    "    \"pop\": ['rock', 'jack'],\n",
    "}"
   ]
  },
  {
   "cell_type": "code",
   "execution_count": 6,
   "id": "45c91c66",
   "metadata": {},
   "outputs": [],
   "source": [
    " g1 = Graph(myLinkedIn)"
   ]
  },
  {
   "cell_type": "code",
   "execution_count": 7,
   "id": "067ed8c2",
   "metadata": {},
   "outputs": [
    {
     "data": {
      "text/plain": [
       "{'gdict': {'bob': ['rock', 'eric', 'jason', 'jack', 'pop'],\n",
       "  'rock': ['bob', 'jason'],\n",
       "  'eric': ['bob', 'jack', 'pop'],\n",
       "  'jason': ['rock'],\n",
       "  'jack': ['bob', 'rock', 'eric', 'jason', 'pop'],\n",
       "  'pop': ['rock', 'jack']}}"
      ]
     },
     "execution_count": 7,
     "metadata": {},
     "output_type": "execute_result"
    }
   ],
   "source": [
    "g1.__dict__"
   ]
  },
  {
   "cell_type": "code",
   "execution_count": 8,
   "id": "691783da",
   "metadata": {},
   "outputs": [
    {
     "name": "stdout",
     "output_type": "stream",
     "text": [
      "jason\tConnections: 1\n",
      "rock\tConnections: 2\n",
      "bob\tConnections: 5\n",
      "eric\tConnections: 3\n",
      "jack\tConnections: 5\n",
      "pop\tConnections: 2\n"
     ]
    }
   ],
   "source": [
    "g1.BFSTraversal(\"jason\")"
   ]
  },
  {
   "cell_type": "code",
   "execution_count": 9,
   "id": "ea2929fc",
   "metadata": {},
   "outputs": [
    {
     "name": "stdout",
     "output_type": "stream",
     "text": [
      "jason\tConnections: 1\n",
      "rock\tConnections: 2\n",
      "bob\tConnections: 5\n",
      "pop\tConnections: 2\n",
      "jack\tConnections: 5\n",
      "eric\tConnections: 3\n"
     ]
    }
   ],
   "source": [
    "g1.DFSTraversal(\"jason\")"
   ]
  },
  {
   "cell_type": "code",
   "execution_count": null,
   "id": "35bcb4dd",
   "metadata": {},
   "outputs": [],
   "source": []
  }
 ],
 "metadata": {
  "kernelspec": {
   "display_name": "Python 3",
   "language": "python",
   "name": "python3"
  },
  "language_info": {
   "codemirror_mode": {
    "name": "ipython",
    "version": 3
   },
   "file_extension": ".py",
   "mimetype": "text/x-python",
   "name": "python",
   "nbconvert_exporter": "python",
   "pygments_lexer": "ipython3",
   "version": "3.8.8"
  }
 },
 "nbformat": 4,
 "nbformat_minor": 5
}
