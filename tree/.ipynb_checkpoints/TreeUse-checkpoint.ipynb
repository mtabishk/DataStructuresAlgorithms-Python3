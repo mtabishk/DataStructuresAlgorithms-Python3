{
 "cells": [
  {
   "cell_type": "code",
   "execution_count": 1,
   "id": "105514d0",
   "metadata": {},
   "outputs": [],
   "source": [
    "from Tree import TreeNode"
   ]
  },
  {
   "cell_type": "code",
   "execution_count": 2,
   "id": "d0fef19a",
   "metadata": {},
   "outputs": [],
   "source": [
    "# root node\n",
    "drinks = TreeNode(\"drinks\")"
   ]
  },
  {
   "cell_type": "code",
   "execution_count": 3,
   "id": "7be4c242",
   "metadata": {},
   "outputs": [],
   "source": [
    "# children at first level: hot, cold\n",
    "hot = TreeNode(\"hot\")\n",
    "cold = TreeNode(\"cold\")"
   ]
  },
  {
   "cell_type": "code",
   "execution_count": 4,
   "id": "0e197358",
   "metadata": {},
   "outputs": [],
   "source": [
    "drinks.add_child(hot)"
   ]
  },
  {
   "cell_type": "code",
   "execution_count": 5,
   "id": "3f1fd591",
   "metadata": {},
   "outputs": [],
   "source": [
    "drinks.add_child(cold)"
   ]
  },
  {
   "cell_type": "code",
   "execution_count": 6,
   "id": "2b0c273a",
   "metadata": {},
   "outputs": [
    {
     "data": {
      "text/plain": [
       "{'data': 'drinks',\n",
       " 'children': [<Tree.TreeNode at 0x7f5edcc282b0>,\n",
       "  <Tree.TreeNode at 0x7f5edcc28250>]}"
      ]
     },
     "execution_count": 6,
     "metadata": {},
     "output_type": "execute_result"
    }
   ],
   "source": [
    "drinks.__dict__"
   ]
  },
  {
   "cell_type": "code",
   "execution_count": 7,
   "id": "d5d99e91",
   "metadata": {},
   "outputs": [],
   "source": [
    "# children at second level: hot: tea, coffee, cold: juice, soda, cola\n",
    "tea = TreeNode(\"tea\")\n",
    "coffee = TreeNode(\"coffee\")\n"
   ]
  },
  {
   "cell_type": "code",
   "execution_count": null,
   "id": "c047383d",
   "metadata": {},
   "outputs": [],
   "source": [
    "juice = TreeNode(\"juice\")\n",
    "soda = TreeNode(\"soda\")\n",
    "cola = TreeNode(\"cola\")"
   ]
  },
  {
   "cell_type": "code",
   "execution_count": 8,
   "id": "52203835",
   "metadata": {},
   "outputs": [],
   "source": [
    "hot.add_child(tea)\n",
    "hot.add_child(coffee)"
   ]
  },
  {
   "cell_type": "code",
   "execution_count": 9,
   "id": "bb20333b",
   "metadata": {},
   "outputs": [],
   "source": [
    "cold.add_child(juice)\n",
    "cold.add_child(soda)\n",
    "cold.add_child(cola)"
   ]
  },
  {
   "cell_type": "code",
   "execution_count": 38,
   "id": "95de6969",
   "metadata": {},
   "outputs": [],
   "source": [
    "latte = TreeNode(\"latte\")\n",
    "cappuchino = TreeNode(\"cappuchino\")"
   ]
  },
  {
   "cell_type": "code",
   "execution_count": 39,
   "id": "235e0f9d",
   "metadata": {},
   "outputs": [],
   "source": [
    "coffee.add_child(latte)\n",
    "coffee.add_child(cappuchino)"
   ]
  },
  {
   "cell_type": "code",
   "execution_count": 50,
   "id": "922c203e",
   "metadata": {},
   "outputs": [],
   "source": [
    "# Function to print children of a node\n",
    "def print_children(node):\n",
    "    for i in node.children:\n",
    "        print(i.data, \":\")\n",
    "        for j in i.children:\n",
    "            print(\" \", j.data, \":\")\n",
    "            for k in j.children:\n",
    "                print(\"  \", k.data)"
   ]
  },
  {
   "cell_type": "code",
   "execution_count": 51,
   "id": "2acc0c39",
   "metadata": {},
   "outputs": [
    {
     "name": "stdout",
     "output_type": "stream",
     "text": [
      "hot :\n",
      "  tea :\n",
      "  coffee :\n",
      "   latte\n",
      "   cappuchino\n",
      "cold :\n",
      "  juice :\n",
      "  soda :\n",
      "  cola :\n"
     ]
    }
   ],
   "source": [
    "# Traversing the Tree\n",
    "print_children(drinks)"
   ]
  },
  {
   "cell_type": "code",
   "execution_count": 46,
   "id": "7329dfa8",
   "metadata": {},
   "outputs": [
    {
     "name": "stdout",
     "output_type": "stream",
     "text": [
      "tea :\n",
      "coffee :\n",
      "  latte\n",
      "  cappuchino\n"
     ]
    }
   ],
   "source": [
    "print_children(hot)"
   ]
  },
  {
   "cell_type": "code",
   "execution_count": 44,
   "id": "2920f9ef",
   "metadata": {},
   "outputs": [
    {
     "data": {
      "text/plain": [
       "[<Tree.TreeNode at 0x7f5edc3b2310>, <Tree.TreeNode at 0x7f5edc3b25b0>]"
      ]
     },
     "execution_count": 44,
     "metadata": {},
     "output_type": "execute_result"
    }
   ],
   "source": [
    "coffee.children"
   ]
  },
  {
   "cell_type": "code",
   "execution_count": 13,
   "id": "f1df2edb",
   "metadata": {},
   "outputs": [
    {
     "data": {
      "text/plain": [
       "{'data': 'cold',\n",
       " 'children': [<Tree.TreeNode at 0x7f5edcc28940>,\n",
       "  <Tree.TreeNode at 0x7f5edc3b2040>,\n",
       "  <Tree.TreeNode at 0x7f5edc3b2070>]}"
      ]
     },
     "execution_count": 13,
     "metadata": {},
     "output_type": "execute_result"
    }
   ],
   "source": [
    "cold.__dict__"
   ]
  },
  {
   "cell_type": "code",
   "execution_count": 27,
   "id": "189c3361",
   "metadata": {},
   "outputs": [
    {
     "data": {
      "text/plain": [
       "'soda'"
      ]
     },
     "execution_count": 27,
     "metadata": {},
     "output_type": "execute_result"
    }
   ],
   "source": [
    "cold.children[1].data"
   ]
  },
  {
   "cell_type": "code",
   "execution_count": null,
   "id": "9cbc220e",
   "metadata": {},
   "outputs": [],
   "source": []
  },
  {
   "cell_type": "code",
   "execution_count": null,
   "id": "4db99737",
   "metadata": {},
   "outputs": [],
   "source": []
  }
 ],
 "metadata": {
  "kernelspec": {
   "display_name": "Python 3",
   "language": "python",
   "name": "python3"
  },
  "language_info": {
   "codemirror_mode": {
    "name": "ipython",
    "version": 3
   },
   "file_extension": ".py",
   "mimetype": "text/x-python",
   "name": "python",
   "nbconvert_exporter": "python",
   "pygments_lexer": "ipython3",
   "version": "3.8.0"
  }
 },
 "nbformat": 4,
 "nbformat_minor": 5
}
