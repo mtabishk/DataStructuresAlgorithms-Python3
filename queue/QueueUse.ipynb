{
 "cells": [
  {
   "cell_type": "code",
   "execution_count": null,
   "id": "f6c47eff",
   "metadata": {},
   "outputs": [],
   "source": [
    "from fifo_queue import Queue"
   ]
  },
  {
   "cell_type": "code",
   "execution_count": null,
   "id": "f68deefa",
   "metadata": {},
   "outputs": [],
   "source": [
    "passengers = Queue()"
   ]
  },
  {
   "cell_type": "code",
   "execution_count": null,
   "id": "2a584199",
   "metadata": {},
   "outputs": [],
   "source": [
    "passengers.__dict__"
   ]
  },
  {
   "cell_type": "markdown",
   "id": "b55360d3",
   "metadata": {},
   "source": [
    "# ENQUEUE "
   ]
  },
  {
   "cell_type": "code",
   "execution_count": null,
   "id": "a7dc7a2f",
   "metadata": {},
   "outputs": [],
   "source": [
    "passengers.enqueue(\"eric\")"
   ]
  },
  {
   "cell_type": "code",
   "execution_count": null,
   "id": "1c6d82c7",
   "metadata": {},
   "outputs": [],
   "source": [
    "passengers.enqueue(\"bob\")"
   ]
  },
  {
   "cell_type": "code",
   "execution_count": null,
   "id": "83b48b80",
   "metadata": {},
   "outputs": [],
   "source": [
    "passengers.enqueue(\"harry\")"
   ]
  },
  {
   "cell_type": "code",
   "execution_count": null,
   "id": "be707abd",
   "metadata": {},
   "outputs": [],
   "source": [
    "passengers.enqueue(\"jack\")"
   ]
  },
  {
   "cell_type": "markdown",
   "id": "9ae5297b",
   "metadata": {},
   "source": [
    "# DEQUEUE"
   ]
  },
  {
   "cell_type": "code",
   "execution_count": null,
   "id": "4d438936",
   "metadata": {},
   "outputs": [],
   "source": [
    "passengers.dequeue()"
   ]
  },
  {
   "cell_type": "code",
   "execution_count": null,
   "id": "e178562b",
   "metadata": {},
   "outputs": [],
   "source": [
    "passengers.peek()"
   ]
  },
  {
   "cell_type": "code",
   "execution_count": null,
   "id": "3adf588b",
   "metadata": {},
   "outputs": [],
   "source": [
    "passengers.isEmpty()"
   ]
  },
  {
   "cell_type": "code",
   "execution_count": null,
   "id": "376006a4",
   "metadata": {},
   "outputs": [],
   "source": [
    "passengers.size()"
   ]
  },
  {
   "cell_type": "code",
   "execution_count": null,
   "id": "68ac6e42",
   "metadata": {},
   "outputs": [],
   "source": []
  },
  {
   "cell_type": "code",
   "execution_count": null,
   "id": "2575d3c7",
   "metadata": {},
   "outputs": [],
   "source": []
  }
 ],
 "metadata": {
  "kernelspec": {
   "display_name": "Python 3",
   "language": "python",
   "name": "python3"
  },
  "language_info": {
   "codemirror_mode": {
    "name": "ipython",
    "version": 3
   },
   "file_extension": ".py",
   "mimetype": "text/x-python",
   "name": "python",
   "nbconvert_exporter": "python",
   "pygments_lexer": "ipython3",
   "version": "3.8.0"
  }
 },
 "nbformat": 4,
 "nbformat_minor": 5
}
