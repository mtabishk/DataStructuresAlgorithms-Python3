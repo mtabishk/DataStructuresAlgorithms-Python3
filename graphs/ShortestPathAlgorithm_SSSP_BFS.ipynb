{
 "cells": [
  {
   "cell_type": "code",
   "execution_count": 7,
   "id": "5726c14b",
   "metadata": {},
   "outputs": [],
   "source": [
    "class Graph:\n",
    "    def __init__(self, gdict=None):\n",
    "        if gdict is None:\n",
    "            gdict = {}\n",
    "        self.gdict = gdict\n",
    "        \n",
    "    def shortestPath_sssp_bfs(self, start, end):\n",
    "        queue = []\n",
    "        # appending start vertex as an list in the queue e.g., [[\"a\"]]\n",
    "        queue.append([start])\n",
    "        while queue:\n",
    "            path = queue.pop(0)\n",
    "            node = path[-1]\n",
    "            if node == end:\n",
    "                return path\n",
    "            for adjacent in self.gdict.get(node):\n",
    "                new_path = list(path)\n",
    "                new_path.append(adjacent)\n",
    "                queue.append(new_path)"
   ]
  },
  {
   "cell_type": "code",
   "execution_count": 19,
   "id": "010cf16e",
   "metadata": {},
   "outputs": [],
   "source": [
    "my_airports = {\n",
    "    \"a\": [\"b\", \"c\"],\n",
    "    \"b\": [\"d\", \"g\"],\n",
    "    \"c\": [\"d\", \"e\"],\n",
    "    \"d\": [\"f\"],\n",
    "    \"e\": [\"f\"],\n",
    "    \"g\": [\"f\"]\n",
    "}"
   ]
  },
  {
   "cell_type": "code",
   "execution_count": 20,
   "id": "c6f4c7fe",
   "metadata": {},
   "outputs": [],
   "source": [
    "g = Graph(my_airports)"
   ]
  },
  {
   "cell_type": "code",
   "execution_count": 21,
   "id": "4d0e0eae",
   "metadata": {},
   "outputs": [
    {
     "data": {
      "text/plain": [
       "{'a': ['b', 'c'],\n",
       " 'b': ['d', 'g'],\n",
       " 'c': ['d', 'e'],\n",
       " 'd': ['f'],\n",
       " 'e': ['f'],\n",
       " 'g': ['f']}"
      ]
     },
     "execution_count": 21,
     "metadata": {},
     "output_type": "execute_result"
    }
   ],
   "source": [
    "g.gdict"
   ]
  },
  {
   "cell_type": "code",
   "execution_count": 22,
   "id": "1c6ead5a",
   "metadata": {},
   "outputs": [
    {
     "data": {
      "text/plain": [
       "['a', 'b', 'd', 'f']"
      ]
     },
     "execution_count": 22,
     "metadata": {},
     "output_type": "execute_result"
    }
   ],
   "source": [
    "g.shortestPath_sssp_bfs(start = \"a\", end=\"f\")"
   ]
  },
  {
   "cell_type": "code",
   "execution_count": 23,
   "id": "8e2e47ab",
   "metadata": {},
   "outputs": [
    {
     "data": {
      "text/plain": [
       "['a', 'c', 'e']"
      ]
     },
     "execution_count": 23,
     "metadata": {},
     "output_type": "execute_result"
    }
   ],
   "source": [
    "g.shortestPath_sssp_bfs(\"a\", \"e\")"
   ]
  },
  {
   "cell_type": "code",
   "execution_count": 24,
   "id": "b19ecd2d",
   "metadata": {},
   "outputs": [
    {
     "data": {
      "text/plain": [
       "['a', 'b', 'g']"
      ]
     },
     "execution_count": 24,
     "metadata": {},
     "output_type": "execute_result"
    }
   ],
   "source": [
    "g.shortestPath_sssp_bfs(\"a\", \"g\")"
   ]
  },
  {
   "cell_type": "code",
   "execution_count": null,
   "id": "c3bd3347",
   "metadata": {},
   "outputs": [],
   "source": []
  },
  {
   "cell_type": "code",
   "execution_count": null,
   "id": "e5e367d3",
   "metadata": {},
   "outputs": [],
   "source": []
  }
 ],
 "metadata": {
  "kernelspec": {
   "display_name": "Python 3",
   "language": "python",
   "name": "python3"
  },
  "language_info": {
   "codemirror_mode": {
    "name": "ipython",
    "version": 3
   },
   "file_extension": ".py",
   "mimetype": "text/x-python",
   "name": "python",
   "nbconvert_exporter": "python",
   "pygments_lexer": "ipython3",
   "version": "3.8.8"
  }
 },
 "nbformat": 4,
 "nbformat_minor": 5
}
