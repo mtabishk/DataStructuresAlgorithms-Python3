{
 "cells": [
  {
   "cell_type": "code",
   "execution_count": 1,
   "id": "6470f18d",
   "metadata": {},
   "outputs": [],
   "source": [
    "from graphs import Graph"
   ]
  },
  {
   "cell_type": "code",
   "execution_count": 2,
   "id": "f9a8f2f5",
   "metadata": {},
   "outputs": [],
   "source": [
    "myLinkedIn = {\n",
    "    \"bob\": ['rock', 'eric', 'jason', 'jack', 'pop'],\n",
    "    \"rock\": ['bob', 'jason'],\n",
    "    \"eric\": ['bob', 'jack', 'pop'],\n",
    "    \"jason\": ['rock'],\n",
    "    \"jack\": ['bob', 'rock', 'eric', 'jason', 'pop'],\n",
    "    \"pop\": ['rock', 'jack']\n",
    "}"
   ]
  },
  {
   "cell_type": "code",
   "execution_count": 3,
   "id": "28cfe55b",
   "metadata": {},
   "outputs": [],
   "source": [
    " g1 = Graph(myLinkedIn)"
   ]
  },
  {
   "cell_type": "code",
   "execution_count": 4,
   "id": "c768d601",
   "metadata": {},
   "outputs": [
    {
     "data": {
      "text/plain": [
       "{'gdict': {'bob': ['rock', 'eric', 'jason', 'jack', 'pop'],\n",
       "  'rock': ['bob', 'jason'],\n",
       "  'eric': ['bob', 'jack', 'pop'],\n",
       "  'jason': ['rock'],\n",
       "  'jack': ['bob', 'rock', 'eric', 'jason', 'pop'],\n",
       "  'pop': ['rock', 'jack']}}"
      ]
     },
     "execution_count": 4,
     "metadata": {},
     "output_type": "execute_result"
    }
   ],
   "source": [
    "g1.__dict__"
   ]
  },
  {
   "cell_type": "code",
   "execution_count": 5,
   "id": "74b5694c",
   "metadata": {},
   "outputs": [
    {
     "name": "stdout",
     "output_type": "stream",
     "text": [
      "jason\tConnections: 1\n",
      "rock\tConnections: 2\n",
      "bob\tConnections: 5\n",
      "eric\tConnections: 3\n",
      "jack\tConnections: 5\n",
      "pop\tConnections: 2\n"
     ]
    }
   ],
   "source": [
    "g1.BFSTraversal(\"jason\")"
   ]
  },
  {
   "cell_type": "code",
   "execution_count": null,
   "id": "762eb320",
   "metadata": {},
   "outputs": [],
   "source": []
  }
 ],
 "metadata": {
  "kernelspec": {
   "display_name": "Python 3",
   "language": "python",
   "name": "python3"
  },
  "language_info": {
   "codemirror_mode": {
    "name": "ipython",
    "version": 3
   },
   "file_extension": ".py",
   "mimetype": "text/x-python",
   "name": "python",
   "nbconvert_exporter": "python",
   "pygments_lexer": "ipython3",
   "version": "3.8.8"
  }
 },
 "nbformat": 4,
 "nbformat_minor": 5
}
