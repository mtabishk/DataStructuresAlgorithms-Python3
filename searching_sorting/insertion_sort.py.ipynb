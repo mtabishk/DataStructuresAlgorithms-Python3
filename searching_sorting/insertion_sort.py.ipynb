{
 "cells": [
  {
   "cell_type": "code",
   "execution_count": 2,
   "metadata": {},
   "outputs": [],
   "source": [
    "def insertionSort(arr):\n",
    "    print(f\"Unsorted Array: {arr}\")\n",
    "    # Size of Array\n",
    "    size = len(arr)\n",
    "    swaps = 0\n",
    "\n",
    "    i = 1\n",
    "    while i <= size-1:\n",
    "        temp = i\n",
    "        j = i-1\n",
    "        while j >= 0:\n",
    "            if arr[temp] < arr[j]:\n",
    "                # swap\n",
    "                arr[temp], arr[j] = arr[j], arr[temp]\n",
    "                swaps = swaps + 1\n",
    "                temp = j\n",
    "            j = j - 1\n",
    "        i = i + 1\n",
    "        print(f\"{arr}\")\n",
    "    print(f\"Steps: {i} \\t Swaps: {swaps}\")\n",
    "    return arr\n",
    "\n"
   ]
  },
  {
   "cell_type": "code",
   "execution_count": 3,
   "metadata": {},
   "outputs": [
    {
     "name": "stdout",
     "output_type": "stream",
     "text": [
      "Unsorted Array: [2, 6, 9, 4, 8, 1, 5, 7]\n",
      "[2, 6, 9, 4, 8, 1, 5, 7]\n",
      "[2, 6, 9, 4, 8, 1, 5, 7]\n",
      "[2, 4, 6, 9, 8, 1, 5, 7]\n",
      "[2, 4, 6, 8, 9, 1, 5, 7]\n",
      "[1, 2, 4, 6, 8, 9, 5, 7]\n",
      "[1, 2, 4, 5, 6, 8, 9, 7]\n",
      "[1, 2, 4, 5, 6, 7, 8, 9]\n",
      "Steps: 8 \t Swaps: 13\n",
      "Sorted Array is: [1, 2, 4, 5, 6, 7, 8, 9]\n"
     ]
    }
   ],
   "source": [
    "a = [2,6,9,4,8,1,5,7]\n",
    "sorted_arr = insertionSort(a)\n",
    "print(f\"Sorted Array is: {sorted_arr}\")"
   ]
  },
  {
   "cell_type": "code",
   "execution_count": null,
   "metadata": {},
   "outputs": [],
   "source": []
  },
  {
   "cell_type": "code",
   "execution_count": null,
   "metadata": {},
   "outputs": [],
   "source": []
  }
 ],
 "metadata": {
  "kernelspec": {
   "display_name": "Python 3",
   "language": "python",
   "name": "python3"
  },
  "language_info": {
   "codemirror_mode": {
    "name": "ipython",
    "version": 3
   },
   "file_extension": ".py",
   "mimetype": "text/x-python",
   "name": "python",
   "nbconvert_exporter": "python",
   "pygments_lexer": "ipython3",
   "version": "3.8.3"
  }
 },
 "nbformat": 4,
 "nbformat_minor": 4
}
