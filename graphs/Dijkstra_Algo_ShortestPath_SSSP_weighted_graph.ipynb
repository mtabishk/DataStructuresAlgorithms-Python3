{
 "cells": [
  {
   "cell_type": "code",
   "execution_count": 3,
   "id": "35a3e569",
   "metadata": {},
   "outputs": [],
   "source": [
    "from collections import defaultdict"
   ]
  },
  {
   "cell_type": "code",
   "execution_count": 4,
   "id": "6a835ec8",
   "metadata": {},
   "outputs": [],
   "source": [
    "class Graph:\n",
    "        def __init__(self):\n",
    "            self.nodes = set() # set datatype has only unique elements\n",
    "            self.edges = defaultdict(list)\n",
    "            self.weights = {}\n",
    "        \n",
    "        def add_node(self, value):\n",
    "            self.nodes.add(value)\n",
    "        \n",
    "        def add_edges(self, fromCity, toCity, cost):\n",
    "            self.edges[fromCity].append(toCity)\n",
    "            self.weights[(fromCity, toCity)] = cost # cost == weight"
   ]
  },
  {
   "cell_type": "code",
   "execution_count": 5,
   "id": "a39fe3bf",
   "metadata": {},
   "outputs": [],
   "source": [
    "cities = Graph()"
   ]
  },
  {
   "cell_type": "code",
   "execution_count": 6,
   "id": "0d606e26",
   "metadata": {},
   "outputs": [],
   "source": [
    "cities.add_node(\"Jaipur\")\n",
    "cities.add_node(\"Delhi\")\n",
    "cities.add_node(\"Mumbai\")\n",
    "cities.add_node(\"Hydrabad\")\n",
    "cities.add_node(\"Goa\")"
   ]
  },
  {
   "cell_type": "code",
   "execution_count": 7,
   "id": "40222e89",
   "metadata": {},
   "outputs": [
    {
     "data": {
      "text/plain": [
       "{'Delhi', 'Goa', 'Hydrabad', 'Jaipur', 'Mumbai'}"
      ]
     },
     "execution_count": 7,
     "metadata": {},
     "output_type": "execute_result"
    }
   ],
   "source": [
    "cities.nodes"
   ]
  },
  {
   "cell_type": "code",
   "execution_count": 8,
   "id": "d08bbec0",
   "metadata": {},
   "outputs": [],
   "source": [
    "cities.add_edges(\"Jaipur\", \"Mumbai\", 4)"
   ]
  },
  {
   "cell_type": "code",
   "execution_count": 9,
   "id": "7f1a88af",
   "metadata": {},
   "outputs": [
    {
     "data": {
      "text/plain": [
       "defaultdict(list, {'Jaipur': ['Mumbai']})"
      ]
     },
     "execution_count": 9,
     "metadata": {},
     "output_type": "execute_result"
    }
   ],
   "source": [
    "cities.edges"
   ]
  },
  {
   "cell_type": "code",
   "execution_count": 10,
   "id": "bbbb9d5e",
   "metadata": {},
   "outputs": [
    {
     "data": {
      "text/plain": [
       "{('Jaipur', 'Mumbai'): 4}"
      ]
     },
     "execution_count": 10,
     "metadata": {},
     "output_type": "execute_result"
    }
   ],
   "source": [
    "cities.weights"
   ]
  },
  {
   "cell_type": "code",
   "execution_count": 11,
   "id": "772d1c72",
   "metadata": {},
   "outputs": [],
   "source": [
    "cities.add_edges(\"Jaipur\", \"Delhi\", 2)\n",
    "cities.add_edges(\"Jaipur\", \"Mumbai\", 5)\n",
    "cities.add_edges(\"Hydrabad\", \"Goa\", 3)\n",
    "cities.add_edges(\"Mumbai\", \"Goa\", 2)\n",
    "cities.add_edges(\"Delhi\", \"Goa\", 6)"
   ]
  },
  {
   "cell_type": "code",
   "execution_count": 12,
   "id": "6bbbe1cd",
   "metadata": {},
   "outputs": [
    {
     "data": {
      "text/plain": [
       "defaultdict(list,\n",
       "            {'Jaipur': ['Mumbai', 'Delhi', 'Mumbai'],\n",
       "             'Hydrabad': ['Goa'],\n",
       "             'Mumbai': ['Goa'],\n",
       "             'Delhi': ['Goa']})"
      ]
     },
     "execution_count": 12,
     "metadata": {},
     "output_type": "execute_result"
    }
   ],
   "source": [
    "cities.edges"
   ]
  },
  {
   "cell_type": "code",
   "execution_count": 13,
   "id": "f17f1dde",
   "metadata": {},
   "outputs": [
    {
     "data": {
      "text/plain": [
       "{('Jaipur', 'Mumbai'): 5,\n",
       " ('Jaipur', 'Delhi'): 2,\n",
       " ('Hydrabad', 'Goa'): 3,\n",
       " ('Mumbai', 'Goa'): 2,\n",
       " ('Delhi', 'Goa'): 6}"
      ]
     },
     "execution_count": 13,
     "metadata": {},
     "output_type": "execute_result"
    }
   ],
   "source": [
    "cities.weights"
   ]
  },
  {
   "cell_type": "code",
   "execution_count": null,
   "id": "c05dfe8c",
   "metadata": {},
   "outputs": [],
   "source": []
  },
  {
   "cell_type": "code",
   "execution_count": null,
   "id": "561bc232",
   "metadata": {},
   "outputs": [],
   "source": []
  },
  {
   "cell_type": "code",
   "execution_count": null,
   "id": "2c990d35",
   "metadata": {},
   "outputs": [],
   "source": []
  },
  {
   "cell_type": "code",
   "execution_count": 15,
   "id": "11cea695",
   "metadata": {},
   "outputs": [],
   "source": [
    "def my_dijkstra_algo(graph, fromNode):\n",
    "        visited = {fromNode: 0}\n",
    "        path = defaultdict(list)\n",
    "        nodes = set(graph.nodes)\n",
    "        while nodes:\n",
    "            minNode = None\n",
    "            for node in nodes:\n",
    "                if node in visited:\n",
    "                    if minNode is None:\n",
    "                        minNode = node\n",
    "                    elif visited[node] < visited[minNode]:\n",
    "                        minNode = node\n",
    "                if minNode is None:\n",
    "                    break\n",
    "            nodes.remove(minNode)\n",
    "            currentWeight = visited[minNode]\n",
    "            \n",
    "            for edge in graph.edge[minNode]:\n",
    "                weight = currentWeight + graph.weights[(minNode, edge)]\n",
    "                if edge not in visited or weight < visited[edge]:\n",
    "                        visited[edge] = weight\n",
    "                        path[edge].append(minNode)\n",
    "        return visited, path"
   ]
  },
  {
   "cell_type": "code",
   "execution_count": null,
   "id": "86fca987",
   "metadata": {},
   "outputs": [],
   "source": [
    "g.edges"
   ]
  },
  {
   "cell_type": "code",
   "execution_count": null,
   "id": "657bdf4c",
   "metadata": {},
   "outputs": [],
   "source": [
    "g.weights"
   ]
  },
  {
   "cell_type": "code",
   "execution_count": null,
   "id": "48b8bb67",
   "metadata": {},
   "outputs": [],
   "source": [
    "g.nodes"
   ]
  },
  {
   "cell_type": "code",
   "execution_count": 16,
   "id": "b22157d2",
   "metadata": {},
   "outputs": [
    {
     "ename": "NameError",
     "evalue": "name 'g' is not defined",
     "output_type": "error",
     "traceback": [
      "\u001b[1;31m---------------------------------------------------------------------------\u001b[0m",
      "\u001b[1;31mNameError\u001b[0m                                 Traceback (most recent call last)",
      "\u001b[1;32m<ipython-input-16-8b15886533d0>\u001b[0m in \u001b[0;36m<module>\u001b[1;34m\u001b[0m\n\u001b[1;32m----> 1\u001b[1;33m \u001b[0mmy_dijkstra_algo\u001b[0m\u001b[1;33m(\u001b[0m\u001b[0mg\u001b[0m\u001b[1;33m,\u001b[0m \u001b[1;34m\"A\"\u001b[0m\u001b[1;33m)\u001b[0m\u001b[1;33m\u001b[0m\u001b[1;33m\u001b[0m\u001b[0m\n\u001b[0m",
      "\u001b[1;31mNameError\u001b[0m: name 'g' is not defined"
     ]
    }
   ],
   "source": [
    "my_dijkstra_algo(g, \"A\")"
   ]
  },
  {
   "cell_type": "code",
   "execution_count": null,
   "id": "8d52586f",
   "metadata": {},
   "outputs": [],
   "source": []
  }
 ],
 "metadata": {
  "kernelspec": {
   "display_name": "Python 3",
   "language": "python",
   "name": "python3"
  },
  "language_info": {
   "codemirror_mode": {
    "name": "ipython",
    "version": 3
   },
   "file_extension": ".py",
   "mimetype": "text/x-python",
   "name": "python",
   "nbconvert_exporter": "python",
   "pygments_lexer": "ipython3",
   "version": "3.8.8"
  }
 },
 "nbformat": 4,
 "nbformat_minor": 5
}
