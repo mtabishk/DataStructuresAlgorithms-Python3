{
 "cells": [
  {
   "cell_type": "markdown",
   "id": "6d71caf6",
   "metadata": {},
   "source": [
    "Coding question 4:\n",
    "\n",
    "Program to accept three numbers from user and print them in ascending and decending order"
   ]
  },
  {
   "cell_type": "code",
   "execution_count": 39,
   "id": "36e02b36",
   "metadata": {},
   "outputs": [],
   "source": [
    "def print_accending(nums):\n",
    "    nums.sort()\n",
    "    print(\"Accending Order: \")\n",
    "    for num in nums:\n",
    "        print(num, end=\" \")\n",
    "    \n",
    "def print_decending(nums):\n",
    "    nums.sort(reverse=True)\n",
    "    print(\"Decending Order: \")\n",
    "    for num in nums:\n",
    "        print(num, end=\" \")"
   ]
  },
  {
   "cell_type": "code",
   "execution_count": 40,
   "id": "49538b31",
   "metadata": {},
   "outputs": [
    {
     "name": "stdout",
     "output_type": "stream",
     "text": [
      "Enter total numbers: 3\n",
      "Enter num 1: 10 \n",
      "Enter num 2: 2\n",
      "Enter num 3: 33\n",
      "Accending Order: \n",
      "2 10 33 \n",
      "Decending Order: \n",
      "33 10 2 "
     ]
    }
   ],
   "source": [
    "nums = []\n",
    "total_nums = int(input(\"Enter total numbers: \"))\n",
    "for n in range(total_nums):\n",
    "    num = int(input(f\"Enter num {n+1}: \"))\n",
    "    nums.append(num)\n",
    "\n",
    "print_accending(nums)\n",
    "print()\n",
    "print_decending(nums)"
   ]
  },
  {
   "cell_type": "code",
   "execution_count": null,
   "id": "c6caba49",
   "metadata": {},
   "outputs": [],
   "source": []
  },
  {
   "cell_type": "code",
   "execution_count": null,
   "id": "7b509fa2",
   "metadata": {},
   "outputs": [],
   "source": []
  }
 ],
 "metadata": {
  "kernelspec": {
   "display_name": "Python 3",
   "language": "python",
   "name": "python3"
  },
  "language_info": {
   "codemirror_mode": {
    "name": "ipython",
    "version": 3
   },
   "file_extension": ".py",
   "mimetype": "text/x-python",
   "name": "python",
   "nbconvert_exporter": "python",
   "pygments_lexer": "ipython3",
   "version": "3.8.8"
  }
 },
 "nbformat": 4,
 "nbformat_minor": 5
}
