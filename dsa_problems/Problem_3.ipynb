{
 "cells": [
  {
   "cell_type": "raw",
   "id": "2e35c812",
   "metadata": {},
   "source": [
    "Q.3 Draw this Pattern 👇\n",
    "\n",
    "    *\n",
    "   * * \n",
    "  * * *\n",
    " * * * *\n",
    "* * * * *"
   ]
  },
  {
   "cell_type": "code",
   "execution_count": 12,
   "id": "4b44767f",
   "metadata": {},
   "outputs": [],
   "source": [
    "def drawPattern(size):\n",
    "    i = 1\n",
    "    while (i <= size):\n",
    "        spaces = size - i\n",
    "        j = 1\n",
    "        for space in range(spaces):\n",
    "            print(\"\", end=\" \")\n",
    "        while(j <= i):\n",
    "            print(\"* \", end=\"\")\n",
    "            j+=1\n",
    "        print()\n",
    "        i+=1"
   ]
  },
  {
   "cell_type": "code",
   "execution_count": 13,
   "id": "3f11b7e5",
   "metadata": {},
   "outputs": [
    {
     "name": "stdout",
     "output_type": "stream",
     "text": [
      "Enter the Size of triangular pattern: 5\n",
      "    * \n",
      "   * * \n",
      "  * * * \n",
      " * * * * \n",
      "* * * * * \n"
     ]
    }
   ],
   "source": [
    "size = int(input(\"Enter the Size of triangular pattern: \"))\n",
    "drawPattern(size)"
   ]
  },
  {
   "cell_type": "code",
   "execution_count": null,
   "id": "95e1947f",
   "metadata": {},
   "outputs": [],
   "source": []
  }
 ],
 "metadata": {
  "kernelspec": {
   "display_name": "Python 3",
   "language": "python",
   "name": "python3"
  },
  "language_info": {
   "codemirror_mode": {
    "name": "ipython",
    "version": 3
   },
   "file_extension": ".py",
   "mimetype": "text/x-python",
   "name": "python",
   "nbconvert_exporter": "python",
   "pygments_lexer": "ipython3",
   "version": "3.8.8"
  }
 },
 "nbformat": 4,
 "nbformat_minor": 5
}
