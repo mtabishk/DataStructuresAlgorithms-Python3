{
 "cells": [
  {
   "cell_type": "code",
   "execution_count": 1,
   "id": "57e3e124",
   "metadata": {},
   "outputs": [],
   "source": [
    "data = {\n",
    "    \"name\": \"Tabish\",\n",
    "    \"phone\": 1111,\n",
    "    \"country\": \"IN\"\n",
    "}"
   ]
  },
  {
   "cell_type": "code",
   "execution_count": 2,
   "id": "a675d0ef",
   "metadata": {},
   "outputs": [
    {
     "data": {
      "text/plain": [
       "dict_keys(['name', 'phone', 'country'])"
      ]
     },
     "execution_count": 2,
     "metadata": {},
     "output_type": "execute_result"
    }
   ],
   "source": [
    "data.keys()"
   ]
  },
  {
   "cell_type": "code",
   "execution_count": 3,
   "id": "336e2493",
   "metadata": {},
   "outputs": [
    {
     "data": {
      "text/plain": [
       "dict_values(['Tabish', 1111, 'IN'])"
      ]
     },
     "execution_count": 3,
     "metadata": {},
     "output_type": "execute_result"
    }
   ],
   "source": [
    "data.values()"
   ]
  },
  {
   "cell_type": "code",
   "execution_count": 4,
   "id": "9d111d99",
   "metadata": {},
   "outputs": [
    {
     "name": "stdout",
     "output_type": "stream",
     "text": [
      "name Tabish\n",
      "phone 1111\n",
      "country IN\n"
     ]
    }
   ],
   "source": [
    "for key in data.keys():\n",
    "    print(key, data[key])"
   ]
  },
  {
   "cell_type": "markdown",
   "id": "54255c5f",
   "metadata": {},
   "source": [
    "## LinkedIn Graph Example"
   ]
  },
  {
   "cell_type": "code",
   "execution_count": 5,
   "id": "9a71468b",
   "metadata": {},
   "outputs": [],
   "source": [
    "# Adjacency List\n",
    "myLinkedIn = {\n",
    "    \"bob\": ['rock', 'eric', 'jason', 'jack', 'pop'],\n",
    "    \"rock\": ['bob', 'jason'],\n",
    "    \"eric\": ['bob', 'jack', 'pop'],\n",
    "    \"jason\": ['rock'],\n",
    "    \"jack\": ['bob', 'rock', 'eric', 'jason', 'pop'],\n",
    "    \"pop\": ['rock', 'jack']\n",
    "}"
   ]
  },
  {
   "cell_type": "code",
   "execution_count": 6,
   "id": "eeb5cfa8",
   "metadata": {},
   "outputs": [
    {
     "data": {
      "text/plain": [
       "dict_keys(['bob', 'rock', 'eric', 'jason', 'jack', 'pop'])"
      ]
     },
     "execution_count": 6,
     "metadata": {},
     "output_type": "execute_result"
    }
   ],
   "source": [
    "myLinkedIn.keys()"
   ]
  },
  {
   "cell_type": "code",
   "execution_count": 7,
   "id": "395bca2c",
   "metadata": {},
   "outputs": [
    {
     "data": {
      "text/plain": [
       "6"
      ]
     },
     "execution_count": 7,
     "metadata": {},
     "output_type": "execute_result"
    }
   ],
   "source": [
    "len(myLinkedIn.keys()) # total number of profiles"
   ]
  },
  {
   "cell_type": "code",
   "execution_count": 8,
   "id": "b8c80372",
   "metadata": {},
   "outputs": [
    {
     "data": {
      "text/plain": [
       "['rock', 'jack']"
      ]
     },
     "execution_count": 8,
     "metadata": {},
     "output_type": "execute_result"
    }
   ],
   "source": [
    "myLinkedIn['pop'] # connections of pop"
   ]
  },
  {
   "cell_type": "code",
   "execution_count": 9,
   "id": "e7570c47",
   "metadata": {},
   "outputs": [
    {
     "data": {
      "text/plain": [
       "2"
      ]
     },
     "execution_count": 9,
     "metadata": {},
     "output_type": "execute_result"
    }
   ],
   "source": [
    "len(myLinkedIn['pop']) # no. of connections of pop"
   ]
  },
  {
   "cell_type": "code",
   "execution_count": 10,
   "id": "9608d434",
   "metadata": {},
   "outputs": [
    {
     "data": {
      "text/plain": [
       "['rock', 'eric', 'jason', 'jack', 'pop']"
      ]
     },
     "execution_count": 10,
     "metadata": {},
     "output_type": "execute_result"
    }
   ],
   "source": [
    "myLinkedIn['bob'] # connections of bob"
   ]
  },
  {
   "cell_type": "code",
   "execution_count": 11,
   "id": "d80df611",
   "metadata": {},
   "outputs": [],
   "source": [
    "myLinkedIn['brain'] = [] # adding new profile"
   ]
  },
  {
   "cell_type": "code",
   "execution_count": 12,
   "id": "9f6fdb35",
   "metadata": {},
   "outputs": [
    {
     "data": {
      "text/plain": [
       "{'bob': ['rock', 'eric', 'jason', 'jack', 'pop'],\n",
       " 'rock': ['bob', 'jason'],\n",
       " 'eric': ['bob', 'jack', 'pop'],\n",
       " 'jason': ['rock'],\n",
       " 'jack': ['bob', 'rock', 'eric', 'jason', 'pop'],\n",
       " 'pop': ['rock', 'jack'],\n",
       " 'brain': []}"
      ]
     },
     "execution_count": 12,
     "metadata": {},
     "output_type": "execute_result"
    }
   ],
   "source": [
    "myLinkedIn"
   ]
  },
  {
   "cell_type": "code",
   "execution_count": 13,
   "id": "6932c31b",
   "metadata": {},
   "outputs": [],
   "source": [
    "myLinkedIn['brain'] = [\"rock\", \"eric\"]"
   ]
  },
  {
   "cell_type": "code",
   "execution_count": 14,
   "id": "20f18cb1",
   "metadata": {},
   "outputs": [
    {
     "data": {
      "text/plain": [
       "{'bob': ['rock', 'eric', 'jason', 'jack', 'pop'],\n",
       " 'rock': ['bob', 'jason'],\n",
       " 'eric': ['bob', 'jack', 'pop'],\n",
       " 'jason': ['rock'],\n",
       " 'jack': ['bob', 'rock', 'eric', 'jason', 'pop'],\n",
       " 'pop': ['rock', 'jack'],\n",
       " 'brain': ['rock', 'eric']}"
      ]
     },
     "execution_count": 14,
     "metadata": {},
     "output_type": "execute_result"
    }
   ],
   "source": [
    "myLinkedIn # brain is adding connections"
   ]
  },
  {
   "cell_type": "code",
   "execution_count": 15,
   "id": "ad14ef42",
   "metadata": {},
   "outputs": [],
   "source": [
    "from graphs import Graph"
   ]
  },
  {
   "cell_type": "code",
   "execution_count": 16,
   "id": "10e3a4d9",
   "metadata": {},
   "outputs": [],
   "source": [
    "g = Graph(myLinkedIn)"
   ]
  },
  {
   "cell_type": "code",
   "execution_count": 17,
   "id": "061845a3",
   "metadata": {},
   "outputs": [
    {
     "data": {
      "text/plain": [
       "{'gdict': {'bob': ['rock', 'eric', 'jason', 'jack', 'pop'],\n",
       "  'rock': ['bob', 'jason'],\n",
       "  'eric': ['bob', 'jack', 'pop'],\n",
       "  'jason': ['rock'],\n",
       "  'jack': ['bob', 'rock', 'eric', 'jason', 'pop'],\n",
       "  'pop': ['rock', 'jack'],\n",
       "  'brain': ['rock', 'eric']}}"
      ]
     },
     "execution_count": 17,
     "metadata": {},
     "output_type": "execute_result"
    }
   ],
   "source": [
    "g.__dict__"
   ]
  },
  {
   "cell_type": "code",
   "execution_count": 18,
   "id": "95f46f52",
   "metadata": {},
   "outputs": [],
   "source": [
    "g.add_connection(\"brain\", \"jason\")"
   ]
  },
  {
   "cell_type": "code",
   "execution_count": 19,
   "id": "9a0b6cd7",
   "metadata": {},
   "outputs": [],
   "source": [
    "g.remove_connection(\"pop\", \"jack\")"
   ]
  },
  {
   "cell_type": "code",
   "execution_count": 20,
   "id": "c8099fef",
   "metadata": {},
   "outputs": [
    {
     "data": {
      "text/plain": [
       "5"
      ]
     },
     "execution_count": 20,
     "metadata": {},
     "output_type": "execute_result"
    }
   ],
   "source": [
    "g.count_connections(\"bob\")"
   ]
  },
  {
   "cell_type": "code",
   "execution_count": 21,
   "id": "db065169",
   "metadata": {},
   "outputs": [
    {
     "data": {
      "text/plain": [
       "7"
      ]
     },
     "execution_count": 21,
     "metadata": {},
     "output_type": "execute_result"
    }
   ],
   "source": [
    "g.count_users()"
   ]
  },
  {
   "cell_type": "code",
   "execution_count": 22,
   "id": "c2128829",
   "metadata": {},
   "outputs": [],
   "source": [
    "g.add_user(\"tabish\")"
   ]
  },
  {
   "cell_type": "code",
   "execution_count": 23,
   "id": "229438f7",
   "metadata": {},
   "outputs": [],
   "source": [
    "g.add_connection(\"tabish\", \"rock\")"
   ]
  },
  {
   "cell_type": "code",
   "execution_count": 24,
   "id": "85393906",
   "metadata": {},
   "outputs": [],
   "source": [
    "g.add_connection(\"tabish\", \"jason\")"
   ]
  },
  {
   "cell_type": "code",
   "execution_count": 25,
   "id": "bf1600aa",
   "metadata": {},
   "outputs": [
    {
     "data": {
      "text/plain": [
       "2"
      ]
     },
     "execution_count": 25,
     "metadata": {},
     "output_type": "execute_result"
    }
   ],
   "source": [
    "g.count_connections(\"tabish\")"
   ]
  },
  {
   "cell_type": "code",
   "execution_count": 26,
   "id": "512821ac",
   "metadata": {},
   "outputs": [
    {
     "data": {
      "text/plain": [
       "dict_keys(['bob', 'rock', 'eric', 'jason', 'jack', 'pop', 'brain', 'tabish'])"
      ]
     },
     "execution_count": 26,
     "metadata": {},
     "output_type": "execute_result"
    }
   ],
   "source": [
    "g.show_users()"
   ]
  },
  {
   "cell_type": "code",
   "execution_count": 27,
   "id": "75d96f4c",
   "metadata": {},
   "outputs": [
    {
     "data": {
      "text/plain": [
       "['rock', 'jason']"
      ]
     },
     "execution_count": 27,
     "metadata": {},
     "output_type": "execute_result"
    }
   ],
   "source": [
    "g.show_connections(\"tabish\")"
   ]
  },
  {
   "cell_type": "code",
   "execution_count": null,
   "id": "553d4544",
   "metadata": {},
   "outputs": [],
   "source": []
  }
 ],
 "metadata": {
  "kernelspec": {
   "display_name": "Python 3",
   "language": "python",
   "name": "python3"
  },
  "language_info": {
   "codemirror_mode": {
    "name": "ipython",
    "version": 3
   },
   "file_extension": ".py",
   "mimetype": "text/x-python",
   "name": "python",
   "nbconvert_exporter": "python",
   "pygments_lexer": "ipython3",
   "version": "3.8.8"
  }
 },
 "nbformat": 4,
 "nbformat_minor": 5
}
