{
 "cells": [
  {
   "cell_type": "markdown",
   "id": "8a015dc4",
   "metadata": {},
   "source": [
    "Coding question 1:💻\n",
    "\n",
    "Ramesh's basic salary is input through the keyboard. \n",
    "His dearness allowance is 40% of basic salary, and house rent allowance is 20% of basic salary. \n",
    "Write a program to calculate his gross salary.\n"
   ]
  },
  {
   "cell_type": "code",
   "execution_count": 5,
   "id": "5b8c784f",
   "metadata": {},
   "outputs": [],
   "source": [
    "def grossSalaryCalculator(basic_salary):\n",
    "    dearness_allowance = (40.0/100.0) * basic_salary\n",
    "    house_rent_allowance = (20.0/100.0) * basic_salary\n",
    "    return basic_salary - (dearness_allowance + house_rent_allowance)"
   ]
  },
  {
   "cell_type": "code",
   "execution_count": 7,
   "id": "e33e369d",
   "metadata": {},
   "outputs": [
    {
     "name": "stdout",
     "output_type": "stream",
     "text": [
      "Enter your basic salary: 12000.0\n",
      "The gross salary is: 4800.0\n"
     ]
    }
   ],
   "source": [
    "gross_salary = grossSalaryCalculator(basic_salary = float(input(\"Enter your basic salary: \")))\n",
    "print(f\"The gross salary is: {gross_salary}\")"
   ]
  }
 ],
 "metadata": {
  "kernelspec": {
   "display_name": "Python 3",
   "language": "python",
   "name": "python3"
  },
  "language_info": {
   "codemirror_mode": {
    "name": "ipython",
    "version": 3
   },
   "file_extension": ".py",
   "mimetype": "text/x-python",
   "name": "python",
   "nbconvert_exporter": "python",
   "pygments_lexer": "ipython3",
   "version": "3.8.8"
  }
 },
 "nbformat": 4,
 "nbformat_minor": 5
}
