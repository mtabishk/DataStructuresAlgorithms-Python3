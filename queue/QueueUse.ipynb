{
 "cells": [
  {
   "cell_type": "code",
   "execution_count": null,
   "id": "f6c47eff",
   "metadata": {},
   "outputs": [],
   "source": [
    "from fifo_queue import Queue"
   ]
  },
  {
   "cell_type": "code",
   "execution_count": null,
   "id": "f68deefa",
   "metadata": {},
   "outputs": [],
   "source": [
    "passengers = Queue()"
   ]
  },
  {
   "cell_type": "code",
   "execution_count": null,
   "id": "2a584199",
   "metadata": {},
   "outputs": [],
   "source": [
    "passengers.__dict__"
   ]
  },
  {
   "cell_type": "markdown",
   "id": "b55360d3",
   "metadata": {},
   "source": [
    "# ENQUEUE "
   ]
  },
  {
   "cell_type": "code",
   "execution_count": null,
   "id": "a7dc7a2f",
   "metadata": {},
   "outputs": [],
   "source": [
    "passengers.enqueue(\"eric\")"
   ]
  },
  {
   "cell_type": "code",
   "execution_count": null,
   "id": "1c6d82c7",
   "metadata": {},
   "outputs": [],
   "source": [
    "passengers.enqueue(\"bob\")"
   ]
  },
  {
   "cell_type": "code",
   "execution_count": null,
   "id": "83b48b80",
   "metadata": {},
   "outputs": [],
   "source": [
    "passengers.enqueue(\"harry\")"
   ]
  },
  {
   "cell_type": "code",
   "execution_count": null,
   "id": "be707abd",
   "metadata": {},
   "outputs": [],
   "source": [
    "passengers.enqueue(\"jack\")"
   ]
  },
  {
   "cell_type": "markdown",
   "id": "9ae5297b",
   "metadata": {},
   "source": [
    "# DEQUEUE"
   ]
  },
  {
   "cell_type": "code",
   "execution_count": null,
   "id": "4d438936",
   "metadata": {},
   "outputs": [],
   "source": [
    "passengers.dequeue()"
   ]
  },
  {
   "cell_type": "code",
   "execution_count": null,
   "id": "e178562b",
   "metadata": {},
   "outputs": [],
   "source": [
    "passengers.peek()"
   ]
  },
  {
   "cell_type": "code",
   "execution_count": null,
   "id": "3adf588b",
   "metadata": {},
   "outputs": [],
   "source": [
    "passengers.isEmpty()"
   ]
  },
  {
   "cell_type": "code",
   "execution_count": null,
   "id": "376006a4",
   "metadata": {},
   "outputs": [],
   "source": [
    "passengers.size()"
   ]
  },
  {
   "cell_type": "code",
   "execution_count": null,
   "id": "68ac6e42",
   "metadata": {},
   "outputs": [],
   "source": []
  },
  {
   "cell_type": "markdown",
   "id": "fb353503",
   "metadata": {},
   "source": [
    "# Inbuild Queues"
   ]
  },
  {
   "cell_type": "markdown",
   "id": "8c57dede",
   "metadata": {},
   "source": [
    "### 1. Queue from queue library"
   ]
  },
  {
   "cell_type": "code",
   "execution_count": 16,
   "id": "4e3f5697",
   "metadata": {},
   "outputs": [],
   "source": [
    "import queue"
   ]
  },
  {
   "cell_type": "code",
   "execution_count": 17,
   "id": "18a7ce9a",
   "metadata": {},
   "outputs": [
    {
     "data": {
      "text/plain": [
       "['Empty',\n",
       " 'Full',\n",
       " 'LifoQueue',\n",
       " 'PriorityQueue',\n",
       " 'Queue',\n",
       " 'SimpleQueue',\n",
       " '_PySimpleQueue',\n",
       " '__all__',\n",
       " '__builtins__',\n",
       " '__cached__',\n",
       " '__doc__',\n",
       " '__file__',\n",
       " '__loader__',\n",
       " '__name__',\n",
       " '__package__',\n",
       " '__spec__',\n",
       " 'deque',\n",
       " 'heappop',\n",
       " 'heappush',\n",
       " 'threading',\n",
       " 'time']"
      ]
     },
     "execution_count": 17,
     "metadata": {},
     "output_type": "execute_result"
    }
   ],
   "source": [
    "dir(queue)"
   ]
  },
  {
   "cell_type": "code",
   "execution_count": 5,
   "id": "2c90a0c9",
   "metadata": {},
   "outputs": [],
   "source": [
    "myqueue = queue.Queue(maxsize=3)"
   ]
  },
  {
   "cell_type": "code",
   "execution_count": 6,
   "id": "fab9d237",
   "metadata": {},
   "outputs": [
    {
     "data": {
      "text/plain": [
       "['__class__',\n",
       " '__delattr__',\n",
       " '__dict__',\n",
       " '__dir__',\n",
       " '__doc__',\n",
       " '__eq__',\n",
       " '__format__',\n",
       " '__ge__',\n",
       " '__getattribute__',\n",
       " '__gt__',\n",
       " '__hash__',\n",
       " '__init__',\n",
       " '__init_subclass__',\n",
       " '__le__',\n",
       " '__lt__',\n",
       " '__module__',\n",
       " '__ne__',\n",
       " '__new__',\n",
       " '__reduce__',\n",
       " '__reduce_ex__',\n",
       " '__repr__',\n",
       " '__setattr__',\n",
       " '__sizeof__',\n",
       " '__str__',\n",
       " '__subclasshook__',\n",
       " '__weakref__',\n",
       " '_get',\n",
       " '_init',\n",
       " '_put',\n",
       " '_qsize',\n",
       " 'all_tasks_done',\n",
       " 'empty',\n",
       " 'full',\n",
       " 'get',\n",
       " 'get_nowait',\n",
       " 'join',\n",
       " 'maxsize',\n",
       " 'mutex',\n",
       " 'not_empty',\n",
       " 'not_full',\n",
       " 'put',\n",
       " 'put_nowait',\n",
       " 'qsize',\n",
       " 'queue',\n",
       " 'task_done',\n",
       " 'unfinished_tasks']"
      ]
     },
     "execution_count": 6,
     "metadata": {},
     "output_type": "execute_result"
    }
   ],
   "source": [
    "dir(myqueue)"
   ]
  },
  {
   "cell_type": "code",
   "execution_count": 18,
   "id": "15b2f2ab",
   "metadata": {},
   "outputs": [
    {
     "data": {
      "text/plain": [
       "{'maxsize': 3,\n",
       " 'queue': deque(['eric', 'tom']),\n",
       " 'mutex': <unlocked _thread.lock object at 0x7fb65ccdff00>,\n",
       " 'not_empty': <Condition(<unlocked _thread.lock object at 0x7fb65ccdff00>, 0)>,\n",
       " 'not_full': <Condition(<unlocked _thread.lock object at 0x7fb65ccdff00>, 0)>,\n",
       " 'all_tasks_done': <Condition(<unlocked _thread.lock object at 0x7fb65ccdff00>, 0)>,\n",
       " 'unfinished_tasks': 3}"
      ]
     },
     "execution_count": 18,
     "metadata": {},
     "output_type": "execute_result"
    }
   ],
   "source": [
    "myqueue.__dict__"
   ]
  },
  {
   "cell_type": "code",
   "execution_count": 22,
   "id": "0abc347d",
   "metadata": {},
   "outputs": [],
   "source": [
    "myqueue.put(\"harry\")"
   ]
  },
  {
   "cell_type": "code",
   "execution_count": 23,
   "id": "808beeed",
   "metadata": {},
   "outputs": [],
   "source": [
    "myqueue.put(\"eric\")"
   ]
  },
  {
   "cell_type": "code",
   "execution_count": 24,
   "id": "80739426",
   "metadata": {},
   "outputs": [],
   "source": [
    "myqueue.put(\"tom\")"
   ]
  },
  {
   "cell_type": "code",
   "execution_count": 25,
   "id": "c1228569",
   "metadata": {},
   "outputs": [
    {
     "data": {
      "text/plain": [
       "'harry'"
      ]
     },
     "execution_count": 25,
     "metadata": {},
     "output_type": "execute_result"
    }
   ],
   "source": [
    "# pop operation\n",
    "myqueue.get()"
   ]
  },
  {
   "cell_type": "code",
   "execution_count": 26,
   "id": "9b5a5b6e",
   "metadata": {},
   "outputs": [
    {
     "data": {
      "text/plain": [
       "2"
      ]
     },
     "execution_count": 26,
     "metadata": {},
     "output_type": "execute_result"
    }
   ],
   "source": [
    "myqueue.qsize()"
   ]
  },
  {
   "cell_type": "code",
   "execution_count": 28,
   "id": "21c4f9d7",
   "metadata": {},
   "outputs": [
    {
     "data": {
      "text/plain": [
       "<Condition(<unlocked _thread.lock object at 0x7fb65ccdff00>, 0)>"
      ]
     },
     "execution_count": 28,
     "metadata": {},
     "output_type": "execute_result"
    }
   ],
   "source": []
  },
  {
   "cell_type": "markdown",
   "id": "194754e1",
   "metadata": {},
   "source": [
    "### 2. Deque from collections library (==Queue)"
   ]
  },
  {
   "cell_type": "code",
   "execution_count": 29,
   "id": "436b742b",
   "metadata": {},
   "outputs": [],
   "source": [
    "from collections import deque"
   ]
  },
  {
   "cell_type": "code",
   "execution_count": 30,
   "id": "6a1cd49c",
   "metadata": {},
   "outputs": [
    {
     "data": {
      "text/plain": [
       "['__add__',\n",
       " '__bool__',\n",
       " '__class__',\n",
       " '__contains__',\n",
       " '__copy__',\n",
       " '__delattr__',\n",
       " '__delitem__',\n",
       " '__dir__',\n",
       " '__doc__',\n",
       " '__eq__',\n",
       " '__format__',\n",
       " '__ge__',\n",
       " '__getattribute__',\n",
       " '__getitem__',\n",
       " '__gt__',\n",
       " '__hash__',\n",
       " '__iadd__',\n",
       " '__imul__',\n",
       " '__init__',\n",
       " '__init_subclass__',\n",
       " '__iter__',\n",
       " '__le__',\n",
       " '__len__',\n",
       " '__lt__',\n",
       " '__mul__',\n",
       " '__ne__',\n",
       " '__new__',\n",
       " '__reduce__',\n",
       " '__reduce_ex__',\n",
       " '__repr__',\n",
       " '__reversed__',\n",
       " '__rmul__',\n",
       " '__setattr__',\n",
       " '__setitem__',\n",
       " '__sizeof__',\n",
       " '__str__',\n",
       " '__subclasshook__',\n",
       " 'append',\n",
       " 'appendleft',\n",
       " 'clear',\n",
       " 'copy',\n",
       " 'count',\n",
       " 'extend',\n",
       " 'extendleft',\n",
       " 'index',\n",
       " 'insert',\n",
       " 'maxlen',\n",
       " 'pop',\n",
       " 'popleft',\n",
       " 'remove',\n",
       " 'reverse',\n",
       " 'rotate']"
      ]
     },
     "execution_count": 30,
     "metadata": {},
     "output_type": "execute_result"
    }
   ],
   "source": [
    "dir(deque)"
   ]
  },
  {
   "cell_type": "code",
   "execution_count": 31,
   "id": "00be1a7a",
   "metadata": {},
   "outputs": [],
   "source": [
    "q = deque(maxlen=4)"
   ]
  },
  {
   "cell_type": "code",
   "execution_count": 32,
   "id": "6c7b253f",
   "metadata": {},
   "outputs": [],
   "source": [
    "q.append(\"eric\")"
   ]
  },
  {
   "cell_type": "code",
   "execution_count": 33,
   "id": "b2905ead",
   "metadata": {},
   "outputs": [],
   "source": [
    "q.append(\"harry\")"
   ]
  },
  {
   "cell_type": "code",
   "execution_count": 34,
   "id": "e3d8c943",
   "metadata": {},
   "outputs": [],
   "source": [
    "q.append(\"mason\")"
   ]
  },
  {
   "cell_type": "code",
   "execution_count": 35,
   "id": "d2daeb2d",
   "metadata": {},
   "outputs": [],
   "source": [
    "q.append(\"andrea\")"
   ]
  },
  {
   "cell_type": "code",
   "execution_count": 36,
   "id": "35437f9f",
   "metadata": {},
   "outputs": [
    {
     "data": {
      "text/plain": [
       "'eric'"
      ]
     },
     "execution_count": 36,
     "metadata": {},
     "output_type": "execute_result"
    }
   ],
   "source": [
    "q.popleft()"
   ]
  },
  {
   "cell_type": "code",
   "execution_count": null,
   "id": "24b8ac36",
   "metadata": {},
   "outputs": [],
   "source": []
  },
  {
   "cell_type": "markdown",
   "id": "e305db3b",
   "metadata": {},
   "source": [
    "### Queue from multiprocessing library "
   ]
  },
  {
   "cell_type": "code",
   "execution_count": 42,
   "id": "7c83c462",
   "metadata": {},
   "outputs": [],
   "source": [
    "from multiprocessing import Queue"
   ]
  },
  {
   "cell_type": "code",
   "execution_count": 49,
   "id": "a6c0f1cb",
   "metadata": {},
   "outputs": [],
   "source": [
    "qm = Queue(maxsize=3)"
   ]
  },
  {
   "cell_type": "code",
   "execution_count": 50,
   "id": "148c236f",
   "metadata": {
    "scrolled": true
   },
   "outputs": [
    {
     "data": {
      "text/plain": [
       "['__class__',\n",
       " '__delattr__',\n",
       " '__dict__',\n",
       " '__dir__',\n",
       " '__doc__',\n",
       " '__eq__',\n",
       " '__format__',\n",
       " '__ge__',\n",
       " '__getattribute__',\n",
       " '__getstate__',\n",
       " '__gt__',\n",
       " '__hash__',\n",
       " '__init__',\n",
       " '__init_subclass__',\n",
       " '__le__',\n",
       " '__lt__',\n",
       " '__module__',\n",
       " '__ne__',\n",
       " '__new__',\n",
       " '__reduce__',\n",
       " '__reduce_ex__',\n",
       " '__repr__',\n",
       " '__setattr__',\n",
       " '__setstate__',\n",
       " '__sizeof__',\n",
       " '__str__',\n",
       " '__subclasshook__',\n",
       " '__weakref__',\n",
       " '_after_fork',\n",
       " '_buffer',\n",
       " '_close',\n",
       " '_closed',\n",
       " '_feed',\n",
       " '_finalize_close',\n",
       " '_finalize_join',\n",
       " '_ignore_epipe',\n",
       " '_joincancelled',\n",
       " '_jointhread',\n",
       " '_maxsize',\n",
       " '_notempty',\n",
       " '_on_queue_feeder_error',\n",
       " '_opid',\n",
       " '_poll',\n",
       " '_reader',\n",
       " '_recv_bytes',\n",
       " '_rlock',\n",
       " '_sem',\n",
       " '_send_bytes',\n",
       " '_start_thread',\n",
       " '_thread',\n",
       " '_wlock',\n",
       " '_writer',\n",
       " 'cancel_join_thread',\n",
       " 'close',\n",
       " 'empty',\n",
       " 'full',\n",
       " 'get',\n",
       " 'get_nowait',\n",
       " 'join_thread',\n",
       " 'put',\n",
       " 'put_nowait',\n",
       " 'qsize']"
      ]
     },
     "execution_count": 50,
     "metadata": {},
     "output_type": "execute_result"
    }
   ],
   "source": [
    "dir(qm)"
   ]
  },
  {
   "cell_type": "code",
   "execution_count": 51,
   "id": "8d96761a",
   "metadata": {},
   "outputs": [],
   "source": [
    "qm.put(\"eric\")"
   ]
  },
  {
   "cell_type": "code",
   "execution_count": 52,
   "id": "b759941f",
   "metadata": {},
   "outputs": [],
   "source": [
    " qm.put(\"bob\")"
   ]
  },
  {
   "cell_type": "code",
   "execution_count": 53,
   "id": "b3183f57",
   "metadata": {},
   "outputs": [],
   "source": [
    "qm.put(\"pop\")"
   ]
  },
  {
   "cell_type": "code",
   "execution_count": 54,
   "id": "3bc4926d",
   "metadata": {},
   "outputs": [
    {
     "data": {
      "text/plain": [
       "'eric'"
      ]
     },
     "execution_count": 54,
     "metadata": {},
     "output_type": "execute_result"
    }
   ],
   "source": [
    "qm.get()"
   ]
  },
  {
   "cell_type": "code",
   "execution_count": 55,
   "id": "02b3d146",
   "metadata": {},
   "outputs": [
    {
     "data": {
      "text/plain": [
       "'bob'"
      ]
     },
     "execution_count": 55,
     "metadata": {},
     "output_type": "execute_result"
    }
   ],
   "source": [
    "qm.get()"
   ]
  },
  {
   "cell_type": "code",
   "execution_count": null,
   "id": "4b9b4498",
   "metadata": {},
   "outputs": [],
   "source": []
  }
 ],
 "metadata": {
  "kernelspec": {
   "display_name": "Python 3",
   "language": "python",
   "name": "python3"
  },
  "language_info": {
   "codemirror_mode": {
    "name": "ipython",
    "version": 3
   },
   "file_extension": ".py",
   "mimetype": "text/x-python",
   "name": "python",
   "nbconvert_exporter": "python",
   "pygments_lexer": "ipython3",
   "version": "3.8.0"
  }
 },
 "nbformat": 4,
 "nbformat_minor": 5
}
